{
 "cells": [
  {
   "cell_type": "code",
   "execution_count": 23,
   "metadata": {
    "collapsed": false
   },
   "outputs": [
    {
     "data": {
      "text/html": [
       "<script>\n",
       "code_show=true; \n",
       "function code_toggle() {\n",
       " if (code_show){\n",
       " $('div.input').hide();\n",
       " } else {\n",
       " $('div.input').show();\n",
       " }\n",
       " code_show = !code_show\n",
       "} \n",
       "$( document ).ready(code_toggle);\n",
       "</script>\n",
       "<form action=\"javascript:code_toggle()\"><input type=\"submit\" value=\"Click here to toggle on/off the raw code.\"></form>"
      ],
      "text/plain": [
       "<IPython.core.display.HTML object>"
      ]
     },
     "execution_count": 23,
     "metadata": {},
     "output_type": "execute_result"
    }
   ],
   "source": [
    "from IPython.display import HTML\n",
    "HTML('''<script>\n",
    "code_show=true; \n",
    "function code_toggle() {\n",
    " if (code_show){\n",
    " $('div.input').hide();\n",
    " } else {\n",
    " $('div.input').show();\n",
    " }\n",
    " code_show = !code_show\n",
    "} \n",
    "$( document ).ready(code_toggle);\n",
    "</script>\n",
    "<form action=\"javascript:code_toggle()\"><input type=\"submit\" value=\"Click here to toggle on/off the raw code.\"></form>''')"
   ]
  },
  {
   "cell_type": "code",
   "execution_count": 24,
   "metadata": {
    "collapsed": true
   },
   "outputs": [],
   "source": [
    "# import libraries\n",
    "import warnings\n",
    "warnings.filterwarnings('ignore')\n",
    "\n",
    "import math \n",
    "import numpy as np\n",
    "import numpy.linalg as nplg\n",
    "import matplotlib.pyplot as plt\n",
    "from scipy.special import expit\n",
    "import itertools\n",
    "\n",
    "%matplotlib inline\n",
    "\n",
    "#Import Data as Numpy Matrices\n",
    "X_train = np.genfromtxt ('X_train.csv', delimiter=\",\")\n",
    "Y_train = np.genfromtxt ('y_train.csv',delimiter=\",\")\n",
    "X_test = np.genfromtxt ('X_test.csv', delimiter=\",\")\n",
    "Y_test = np.genfromtxt ('y_test.csv',delimiter=\",\")"
   ]
  },
  {
   "cell_type": "code",
   "execution_count": 25,
   "metadata": {
    "collapsed": true
   },
   "outputs": [],
   "source": [
    "#Function for computing Bernouli MLE\n",
    "def bern_MLE(X,Y,a):\n",
    "    sum=0.0\n",
    "    count=0\n",
    "    for i in xrange(len(X)):\n",
    "        if Y[i]==a:\n",
    "            sum+=X[i]\n",
    "            count+=1\n",
    "        else:\n",
    "            continue\n",
    "    return (sum/count)\n",
    "\n",
    "# Function for computing Pareto MLE\n",
    "def pareto_MLE(X,Y,a):\n",
    "    sum=0.0\n",
    "    count=0\n",
    "    for i in xrange(len(X)):\n",
    "        if Y[i]==a: \n",
    "            sum+=math.log(X[i])\n",
    "            count+=1\n",
    "        else:\n",
    "            continue\n",
    "    return count/sum\n",
    "\n",
    "# Function for calculating Accuracy\n",
    "def Accuracy(Y_test,Y_pred,label=0):\n",
    "    mat= np.zeros((2,2))\n",
    "    for i in xrange(len(y_pred)):\n",
    "        if Y_pred[i]==label and Y_test[i]==label:\n",
    "            mat[0][0]+=1\n",
    "        elif Y_pred[i]==label and Y_test[i]==1:\n",
    "            mat[0][1]+=1\n",
    "        elif Y_pred[i]==1 and Y_test[i]==label:\n",
    "            mat[1][0]+=1\n",
    "        else:\n",
    "            mat[1][1]+=1\n",
    "    return mat,round(100*(np.trace(mat))*1.0/len(Y_test),3)\n",
    "\n",
    "def confusion_matrix(cm, classes,\n",
    "                          title,\n",
    "                          cmap=plt.cm.Blues):\n",
    "    plt.imshow(cm, interpolation='nearest', cmap=cmap)\n",
    "    plt.title(title)\n",
    "    tick_marks = np.arange(len(classes))\n",
    "    plt.xticks(tick_marks, classes)\n",
    "    plt.yticks(tick_marks, classes)\n",
    "\n",
    "    thresh = cm.max() / 2.\n",
    "    for i, j in itertools.product(range(cm.shape[0]), range(cm.shape[1])):\n",
    "        plt.text(j, i, cm[i, j],\n",
    "                 horizontalalignment=\"center\",\n",
    "                 color=\"white\" if cm[i, j] > thresh else \"black\")\n",
    "\n",
    "    plt.tight_layout()\n",
    "    plt.ylabel('True label')\n",
    "    plt.xlabel('Predicted label')\n",
    "    plt.show()"
   ]
  },
  {
   "cell_type": "markdown",
   "metadata": {},
   "source": [
    "## Question 2:\n",
    "### (a) Implementation of Naive Bayes and Accuracy Table"
   ]
  },
  {
   "cell_type": "code",
   "execution_count": 26,
   "metadata": {
    "collapsed": false
   },
   "outputs": [
    {
     "data": {
      "image/png": "[encoded data removed]",
      "text/plain": [
       "<matplotlib.figure.Figure at 0xa8b5940>"
      ]
     },
     "metadata": {},
     "output_type": "display_data"
    }
   ],
   "source": [
    "# Obtain feature MLE vectors by applying respective funtions for each distribution given class\n",
    "MLE_Ytrain_bern = np.mean(Y_train)\n",
    "\n",
    "MLE_Xtrain_bern0 = np.apply_along_axis(bern_MLE,0,X_train[:,0:54],Y_train,0)\n",
    "MLE_Xtrain_bern1 = np.apply_along_axis(bern_MLE,0,X_train[:,0:54],Y_train,1)\n",
    "    \n",
    "MLE_Xtrain_par0 = np.apply_along_axis(pareto_MLE,0,X_train[:,54:],Y_train,0)\n",
    "MLE_Xtrain_par1 = np.apply_along_axis(pareto_MLE,0,X_train[:,54:],Y_train,1)\n",
    "\n",
    "# Concatenate Bernouli and Pareto MLEs into one vector for each class\n",
    "MLE_Xtrain0=np.concatenate((MLE_Xtrain_bern0,MLE_Xtrain_par0))\n",
    "MLE_Xtrain1=np.concatenate((MLE_Xtrain_bern1,MLE_Xtrain_par1))\n",
    "\n",
    "    \n",
    "# Calculate values for posterior given y_test=0\n",
    "\n",
    "post_y0=[]\n",
    "for i in xrange(len(X_test)):\n",
    "    prod=(1-MLE_Ytrain_bern)\n",
    "    for j in xrange(len(X_test[i,:])):\n",
    "        if j<54:\n",
    "            prod*=((MLE_Xtrain0[j])**X_test[i,j])*((1-MLE_Xtrain0[j])**(1-X_test[i,j]))\n",
    "        else:\n",
    "            prod*=(MLE_Xtrain0[j])*((X_test[i,j])**(-(1+((MLE_Xtrain0[j])))))\n",
    "    post_y0.append(prod)\n",
    "\n",
    "# Calculate values for posterior given y_test=1  \n",
    "post_y1=[]\n",
    "for i in xrange(len(X_test)):\n",
    "    prod=MLE_Ytrain_bern\n",
    "    for j in xrange(len(X_test[i,:])):\n",
    "        if j<54:\n",
    "            prod*=((MLE_Xtrain1[j])**X_test[i,j])*((1-MLE_Xtrain1[j])**(1-X_test[i,j]))\n",
    "        else:\n",
    "            prod*=(MLE_Xtrain1[j])*((X_test[i,j])**(-(1+((MLE_Xtrain1[j])))))\n",
    "    post_y1.append(prod)\n",
    "\n",
    "y_pred=[]\n",
    "\n",
    "for i in xrange(len(post_y0)):\n",
    "    if post_y0[i]>post_y1[i]:\n",
    "        y_pred.append(0)\n",
    "    else:\n",
    "        y_pred.append(1)\n",
    "\n",
    "confusion_matrix(Accuracy(Y_test,y_pred)[0],classes=['0','1'],title='Confusion Matrix with Accuracy = ' + str(Accuracy(Y_test,y_pred)[1])+'%')"
   ]
  },
  {
   "cell_type": "markdown",
   "metadata": {},
   "source": [
    "\n",
    "\n",
    "\n",
    "### (b) In one figure, show a stem plot (stem() in Matlab) of the 54 Bernoulli parameters for each class. Use the file “spambase.names” to make an observation about dimensions 16 and 52."
   ]
  },
  {
   "cell_type": "code",
   "execution_count": 27,
   "metadata": {
    "collapsed": false
   },
   "outputs": [
    {
     "data": {
      "image/png": "[encoded data removed]",
      "text/plain": [
       "<matplotlib.figure.Figure at 0xa03f080>"
      ]
     },
     "metadata": {},
     "output_type": "display_data"
    }
   ],
   "source": [
    "#Stem Plot\n",
    "import pylab as plb\n",
    "\n",
    "x = [i for i in xrange(1,55)]\n",
    "# f = plt.subplots(1, 2, sharey=True,figsize=(15,5))\n",
    "\n",
    "\n",
    "plt.figure(figsize=(10,7))\n",
    "markerline1, stemlines1, baseline1 = plt.stem(x,MLE_Xtrain_bern0, markerfmt='o', label='y=0')\n",
    "plt.setp(markerline1,'markerfacecolor','b')\n",
    "plt.setp(stemlines1, 'color','b')\n",
    "plt.setp(stemlines1, 'linestyle', 'dotted')\n",
    "\n",
    "markerline2, stemlines2, baseline2 = plt.stem(x,MLE_Xtrain_bern1, markerfmt='o', label='y=1',color='r')\n",
    "plt.setp(markerline2,'markerfacecolor','r')\n",
    "plt.setp(stemlines2, 'color', 'r')\n",
    "plt.setp(stemlines2, 'linestyle', 'dotted')\n",
    "# plt.set_title(\"Comparison of MLEs of features for class label y=1\")\n",
    "plt.title(\"Comparison of MLEs of features for class label y=0 and y=1\")\n",
    "\n",
    "plt.show()"
   ]
  },
  {
   "cell_type": "markdown",
   "metadata": {},
   "source": [
    "The 16th dimension is the frequency of the word 'free' and 52nd dimension is the frequency of exclamation mark '!'. The following are the inferences that can be made:\n",
    "\n",
    "* For class label y=1, both dimensions (16th and 52nd) have much higher MLE values when compared class y=0. This is expected as most spam mails (which are promotions or advertisements) are likely to contain 'free' and '!'. **Given that the mail is spam (y=1) the probability of occurence of 'free' and '!' is high when compared to non=spam**\n",
    "\n",
    "* The ratio of the MLE's of the two dimensions is closer to 1 (1.537) for spam mails when compared to non-spam (2.95). This shows likely co-occurance of these two expressions in spam mails. Creation of an interation variable between the two dimensions could be a good predictor of spam mails."
   ]
  },
  {
   "cell_type": "markdown",
   "metadata": {},
   "source": [
    "### (c) Implementation of Knn Classification and Plot"
   ]
  },
  {
   "cell_type": "code",
   "execution_count": 28,
   "metadata": {
    "collapsed": false
   },
   "outputs": [
    {
     "data": {
      "image/png": "[encoded data removed]",
      "text/plain": [
       "<matplotlib.figure.Figure at 0xbefd978>"
      ]
     },
     "metadata": {},
     "output_type": "display_data"
    }
   ],
   "source": [
    "# k-NN Classfier\n",
    "\n",
    "# Compute distance between two vectors\n",
    "\n",
    "def knnClassifier(X,Y,x0,k):\n",
    "    distance=[]\n",
    "    for i in xrange(len(X)):\n",
    "        distance.append(np.array([Y[i],nplg.norm(X[i,:]-x0,1)]))\n",
    "    Y_pred_dist=np.array(distance)\n",
    "    Y_pred_dist_sorted=Y_pred_dist[Y_pred_dist[:,1].argsort()]\n",
    "    top_k_neighbors=Y_pred_dist_sorted[0:k,:]\n",
    "    class1_count=sum(top_k_neighbors[:,0])\n",
    "    class0_count=len(top_k_neighbors[:,0])-class1_count\n",
    "\n",
    "    if class1_count>class0_count:\n",
    "        return 1\n",
    "    else:\n",
    "        return 0\n",
    "\n",
    "def minmax(X):\n",
    "    return (X-min(X))/max(X)\n",
    "\n",
    "X_train_std=np.apply_along_axis(minmax,0,X_train)\n",
    "X_test_std=np.apply_along_axis(minmax,0,X_test)\n",
    "\n",
    "\n",
    "acc=[]\n",
    "\n",
    "for k in xrange(1,21):\n",
    "    Y_pred_k=[]\n",
    "    for X in X_test:\n",
    "        Y_pred_k.append(knnClassifier(X_train,Y_train,X,k))\n",
    "    acc.append(Accuracy(Y_test,Y_pred_k)[1])\n",
    "\n",
    "plt.figure(figsize=(8,5))\n",
    "plt.scatter(xrange(1,21),acc)\n",
    "plt.plot(xrange(1,21),acc)\n",
    "plt.xlabel(\"Number of Neighbors\")\n",
    "plt.ylabel(\"Accuracy\")\n",
    "plt.title(\"Variation in Accuracy with k (# neighbors)\")\n",
    "plt.show()"
   ]
  },
  {
   "cell_type": "markdown",
   "metadata": {},
   "source": [
    "### (d) Implementing Logistic Regression and Steepest ascent"
   ]
  },
  {
   "cell_type": "code",
   "execution_count": 29,
   "metadata": {
    "collapsed": false
   },
   "outputs": [
    {
     "data": {
      "text/plain": [
       "<matplotlib.text.Text at 0xa3e7cc0>"
      ]
     },
     "execution_count": 29,
     "metadata": {},
     "output_type": "execute_result"
    },
    {
     "data": {
      "image/png": "[encoded data removed]",
      "text/plain": [
       "<matplotlib.figure.Figure at 0xb95b9e8>"
      ]
     },
     "metadata": {},
     "output_type": "display_data"
    }
   ],
   "source": [
    "def minmax(X):\n",
    "    return (X-min(X))/max(X)\n",
    "\n",
    "#Add ones to the front of training dataset\n",
    "X_train0 = np.concatenate((np.ones((len(X_train),1)),X_train), 1)\n",
    "X_test0 = np.concatenate((np.ones((len(X_test),1)),X_test), 1)\n",
    "\n",
    "#Change all 0s to -1 in Y_train and Y_test\n",
    "for i in xrange(len(Y_train)):\n",
    "    if Y_train[i]==0:\n",
    "        Y_train[i]=-1\n",
    "    else:\n",
    "        continue\n",
    "\n",
    "        \n",
    "for i in xrange(len(Y_test)):\n",
    "    if Y_test[i]==0:\n",
    "        Y_test[i]=-1\n",
    "    else:\n",
    "        continue\n",
    "\n",
    "def sigmoid(x):\n",
    "    return expit(x)\n",
    "\n",
    "def objective(X,Y,w):\n",
    "    return np.sum(np.log(sigmoid(Y*(np.dot(X,w)))))\n",
    "\n",
    "def gradient_log_likelihood(X,Y,w):\n",
    "    A=np.array(np.transpose(np.matrix((np.ones(len(X))-sigmoid(np.multiply(Y,np.dot(X,w))))*Y)))\n",
    "    X=np.array(X)\n",
    "    return np.sum(A*X,axis=0)\n",
    "    \n",
    "def steepest_ascent(X,Y,w0,iters):\n",
    "    w_t=w0\n",
    "    obj=[]\n",
    "    obj.append(objective(X,Y,w0))\n",
    "    for i in xrange(1,iters+1):\n",
    "        eta=1/(100000*math.sqrt(1+i))\n",
    "        w_t=w_t+eta*gradient_log_likelihood(X,Y,w_t)\n",
    "        obj.append(objective(X,Y,w_t))\n",
    "    return obj\n",
    "    \n",
    "\n",
    "w_init=np.array([0*i for i in xrange(len(X_train0[0,:]))])\n",
    "plt.figure(figsize=(8,5))\n",
    "plt.plot(xrange(0,10001),steepest_ascent(X_train0,Y_train,w_init,10000))\n",
    "plt.xlabel(\"Iteration #\")\n",
    "plt.ylabel(\"Objective Function\")\n",
    "plt.title(\"Steepest Ascent\")\n",
    "    \n",
    "    \n",
    "    "
   ]
  },
  {
   "cell_type": "markdown",
   "metadata": {},
   "source": [
    "### (e) Computing Accuracy using Newton's Method"
   ]
  },
  {
   "cell_type": "code",
   "execution_count": 32,
   "metadata": {
    "collapsed": false
   },
   "outputs": [
    {
     "name": "stdout",
     "output_type": "stream",
     "text": [
      "91.398\n"
     ]
    },
    {
     "data": {
      "text/plain": [
       "<matplotlib.text.Text at 0xbb63ef0>"
      ]
     },
     "execution_count": 32,
     "metadata": {},
     "output_type": "execute_result"
    },
    {
     "data": {
      "image/png": "[encoded data removed]",
      "text/plain": [
       "<matplotlib.figure.Figure at 0xccbe8d0>"
      ]
     },
     "metadata": {},
     "output_type": "display_data"
    }
   ],
   "source": [
    "def Hessian(X,w):\n",
    "    sum=0\n",
    "    for i in xrange(len(X)):\n",
    "        sigma=sigmoid(np.dot(X[i,:],w))\n",
    "        sum+=sigma*(1-sigma)*np.outer(np.transpose(X[i,:]),(X[i,:]))\n",
    "    return -sum\n",
    "\n",
    "\n",
    "def Newton_Method(X,Y,w,iters):\n",
    "    w_t=w\n",
    "    obj_NM=[objective(X,Y,w_t)]\n",
    "    for iter in xrange(1,iters+1):\n",
    "        eta=1/(math.sqrt(iter+1))\n",
    "        w_t=w_t-eta*np.dot((nplg.inv(Hessian(X,w_t))),gradient_log_likelihood(X,Y,w_t))\n",
    "        obj_NM.append(objective(X,Y,w_t))\n",
    "        \n",
    "    # Returning both the objective function vector and the final weights\n",
    "    return obj_NM , w_t\n",
    "\n",
    "w_init=np.array([0*i for i in xrange(len(X_train0[0,:]))])\n",
    "A=Newton_Method(X_train0,Y_train,w_init,100)\n",
    "\n",
    "#Computing accuracy from the model output\n",
    "\n",
    "Obj_NM=A[0]\n",
    "w_t=A[1]\n",
    "Y_pred_NM=sigmoid(np.dot(X_test0,w_t))\n",
    "\n",
    "for i in xrange(len(Y_pred_NM)):\n",
    "    if Y_pred_NM[i]>0.5:\n",
    "        Y_pred_NM[i]=1\n",
    "    else:\n",
    "        Y_pred_NM[i]=-1\n",
    "\n",
    "print Accuracy(Y_test,Y_pred_NM,-1)[1]\n",
    "\n",
    "plt.figure(figsize=(8,5))\n",
    "plt.xlim(-3,101)\n",
    "plt.plot(xrange(0,101),Obj_NM)\n",
    "plt.xlabel(\"Iteration #\")\n",
    "plt.ylabel(\"Objective Function\")\n",
    "plt.title(\"Newton's Method\")\n",
    "\n",
    "\n"
   ]
  },
  {
   "cell_type": "markdown",
   "metadata": {},
   "source": [
    "### Accuracy = 91.4 %"
   ]
  }
 ],
 "metadata": {
  "anaconda-cloud": {},
  "kernelspec": {
   "display_name": "Python [Root]",
   "language": "python",
   "name": "Python [Root]"
  },
  "language_info": {
   "codemirror_mode": {
    "name": "ipython",
    "version": 2
   },
   "file_extension": ".py",
   "mimetype": "text/x-python",
   "name": "python",
   "nbconvert_exporter": "python",
   "pygments_lexer": "ipython2",
   "version": "2.7.12"
  }
 },
 "nbformat": 4,
 "nbformat_minor": 0
}
