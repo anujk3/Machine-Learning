{
 "cells": [
  {
   "cell_type": "markdown",
   "metadata": {},
   "source": [
    "# Home Work-5: Machine Learning\n",
    "-Vinayak Bakshi"
   ]
  },
  {
   "cell_type": "code",
   "execution_count": 144,
   "metadata": {
    "collapsed": true
   },
   "outputs": [],
   "source": [
    "import pandas as pd\n",
    "import numpy as np\n",
    "import matplotlib.pyplot as plt\n",
    "import numpy.linalg as nplg\n",
    "import scipy.sparse.linalg\n",
    "%matplotlib inline"
   ]
  },
  {
   "cell_type": "code",
   "execution_count": 31,
   "metadata": {
    "collapsed": false
   },
   "outputs": [],
   "source": [
    "# Read all files\n",
    "scores_df = pd.read_csv(\"CFB2016_scores.csv\",delimiter = \",\",header = None,names = [\"A_index\", \"A_points\", \"B_index\", \"B_points\"])\n",
    "scores_mat = np.genfromtxt(\"CFB2016_scores.csv\", delimiter = \",\")\n",
    "teams_df = pd.read_table(\"TeamNames.txt\",header = None, names=[\"Team_Name\"])"
   ]
  },
  {
   "cell_type": "code",
   "execution_count": 395,
   "metadata": {
    "collapsed": false
   },
   "outputs": [
    {
     "name": "stdout",
     "output_type": "stream",
     "text": [
      "16788.0\n"
     ]
    }
   ],
   "source": [
    "# Initialize M matrix\n",
    "\n",
    "M = np.zeros((teams_df.shape[0],teams_df.shape[0]))\n",
    "\n",
    "# Create M \n",
    "for i in xrange(scores_mat.shape[0]):\n",
    "    \n",
    "    M[int(scores_mat[i][0])-1][int(scores_mat[i][0])-1] = M[int(scores_mat[i][0])-1][int(scores_mat[i][0])-1] + int(scores_mat[i][1] > scores_mat[i][3]) + (1.0*scores_mat[i][1]/(scores_mat[i][1] + scores_mat[i][3]))\n",
    "    M[int(scores_mat[i][2])-1][int(scores_mat[i][2])-1] = M[int(scores_mat[i][2])-1][int(scores_mat[i][2])-1] + int(scores_mat[i][1] < scores_mat[i][3]) + (1.0*scores_mat[i][3]/(scores_mat[i][1] + scores_mat[i][3]))\n",
    "    M[int(scores_mat[i][0])-1][int(scores_mat[i][2])-1] = M[int(scores_mat[i][0])-1][int(scores_mat[i][2])-1] + int(scores_mat[i][1] < scores_mat[i][3]) + (1.0*scores_mat[i][3]/(scores_mat[i][1] + scores_mat[i][3]))\n",
    "    M[int(scores_mat[i][2])-1][int(scores_mat[i][0])-1] = M[int(scores_mat[i][2])-1][int(scores_mat[i][0])-1] + int(scores_mat[i][1] > scores_mat[i][3]) + (1.0*scores_mat[i][1]/(scores_mat[i][1] + scores_mat[i][3]))\n",
    "\n",
    "# Normalize M\n",
    "for i in xrange(M.shape[0]):\n",
    "    M[i] = M[i]/np.sum(M,axis = 1)[i]\n",
    "    \n",
    "# Find states\n",
    "w_all = []\n",
    "w_10000 = [] \n",
    "\n",
    "for t in [10,100,1000,10000]:\n",
    "    \n",
    "    w = (1.0/760)*np.ones(760)\n",
    "    \n",
    "    if t == 10000:\n",
    "        for i in xrange(t):\n",
    "            w = w.dot(M)\n",
    "            w_10000.append(w)\n",
    "        w_all.append(w)\n",
    "        \n",
    "    else:\n",
    "        for i in xrange(t):\n",
    "            w=w.dot(M)\n",
    "        w_all.append(w)"
   ]
  },
  {
   "cell_type": "markdown",
   "metadata": {},
   "source": [
    "## Solution 1(a)"
   ]
  },
  {
   "cell_type": "code",
   "execution_count": 382,
   "metadata": {
    "collapsed": false
   },
   "outputs": [
    {
     "data": {
      "text/html": [
       "<div>\n",
       "<table border=\"1\" class=\"dataframe\">\n",
       "  <thead>\n",
       "    <tr style=\"text-align: right;\">\n",
       "      <th></th>\n",
       "      <th>t=10</th>\n",
       "      <th>weight</th>\n",
       "      <th>t=100</th>\n",
       "      <th>weight</th>\n",
       "      <th>t=1000</th>\n",
       "      <th>weight</th>\n",
       "      <th>t=10000</th>\n",
       "      <th>weight</th>\n",
       "    </tr>\n",
       "  </thead>\n",
       "  <tbody>\n",
       "    <tr>\n",
       "      <th>1</th>\n",
       "      <td>Mary Hardin-Baylor</td>\n",
       "      <td>0.014752</td>\n",
       "      <td>NW Missouri St</td>\n",
       "      <td>0.038258</td>\n",
       "      <td>Alabama</td>\n",
       "      <td>0.060719</td>\n",
       "      <td>Alabama</td>\n",
       "      <td>0.067282</td>\n",
       "    </tr>\n",
       "    <tr>\n",
       "      <th>2</th>\n",
       "      <td>NW Missouri St</td>\n",
       "      <td>0.013151</td>\n",
       "      <td>Alabama</td>\n",
       "      <td>0.033364</td>\n",
       "      <td>Clemson</td>\n",
       "      <td>0.060408</td>\n",
       "      <td>Clemson</td>\n",
       "      <td>0.066983</td>\n",
       "    </tr>\n",
       "    <tr>\n",
       "      <th>3</th>\n",
       "      <td>Alabama</td>\n",
       "      <td>0.012412</td>\n",
       "      <td>Clemson</td>\n",
       "      <td>0.032988</td>\n",
       "      <td>NW Missouri St</td>\n",
       "      <td>0.030495</td>\n",
       "      <td>Florida St</td>\n",
       "      <td>0.020835</td>\n",
       "    </tr>\n",
       "    <tr>\n",
       "      <th>4</th>\n",
       "      <td>Clemson</td>\n",
       "      <td>0.011029</td>\n",
       "      <td>Mary Hardin-Baylor</td>\n",
       "      <td>0.030883</td>\n",
       "      <td>Florida St</td>\n",
       "      <td>0.018814</td>\n",
       "      <td>Ohio State</td>\n",
       "      <td>0.019922</td>\n",
       "    </tr>\n",
       "    <tr>\n",
       "      <th>5</th>\n",
       "      <td>UW-Oshkosh</td>\n",
       "      <td>0.009925</td>\n",
       "      <td>UW-Oshkosh</td>\n",
       "      <td>0.016844</td>\n",
       "      <td>Ohio State</td>\n",
       "      <td>0.017983</td>\n",
       "      <td>Washington</td>\n",
       "      <td>0.017579</td>\n",
       "    </tr>\n",
       "    <tr>\n",
       "      <th>6</th>\n",
       "      <td>St Thomas</td>\n",
       "      <td>0.008178</td>\n",
       "      <td>UW-Whitewater</td>\n",
       "      <td>0.012160</td>\n",
       "      <td>Washington</td>\n",
       "      <td>0.015889</td>\n",
       "      <td>Virginia Tech</td>\n",
       "      <td>0.017524</td>\n",
       "    </tr>\n",
       "    <tr>\n",
       "      <th>7</th>\n",
       "      <td>UW-Whitewater</td>\n",
       "      <td>0.008168</td>\n",
       "      <td>Florida St</td>\n",
       "      <td>0.010444</td>\n",
       "      <td>Virginia Tech</td>\n",
       "      <td>0.015824</td>\n",
       "      <td>Michigan</td>\n",
       "      <td>0.016426</td>\n",
       "    </tr>\n",
       "    <tr>\n",
       "      <th>8</th>\n",
       "      <td>St Francis IN</td>\n",
       "      <td>0.008098</td>\n",
       "      <td>Grand Valley St</td>\n",
       "      <td>0.010261</td>\n",
       "      <td>Michigan</td>\n",
       "      <td>0.014827</td>\n",
       "      <td>NW Missouri St</td>\n",
       "      <td>0.016342</td>\n",
       "    </tr>\n",
       "    <tr>\n",
       "      <th>9</th>\n",
       "      <td>Mount Union</td>\n",
       "      <td>0.007755</td>\n",
       "      <td>John Carroll</td>\n",
       "      <td>0.010246</td>\n",
       "      <td>Pittsburgh</td>\n",
       "      <td>0.014651</td>\n",
       "      <td>Pittsburgh</td>\n",
       "      <td>0.016235</td>\n",
       "    </tr>\n",
       "    <tr>\n",
       "      <th>10</th>\n",
       "      <td>James Madison</td>\n",
       "      <td>0.007428</td>\n",
       "      <td>Ohio State</td>\n",
       "      <td>0.009941</td>\n",
       "      <td>Oklahoma</td>\n",
       "      <td>0.014390</td>\n",
       "      <td>Oklahoma</td>\n",
       "      <td>0.015922</td>\n",
       "    </tr>\n",
       "    <tr>\n",
       "      <th>11</th>\n",
       "      <td>Reinhardt</td>\n",
       "      <td>0.006954</td>\n",
       "      <td>Ferris St</td>\n",
       "      <td>0.009426</td>\n",
       "      <td>Penn State</td>\n",
       "      <td>0.013672</td>\n",
       "      <td>Penn State</td>\n",
       "      <td>0.015144</td>\n",
       "    </tr>\n",
       "    <tr>\n",
       "      <th>12</th>\n",
       "      <td>John Carroll</td>\n",
       "      <td>0.006911</td>\n",
       "      <td>St Thomas</td>\n",
       "      <td>0.009332</td>\n",
       "      <td>Wisconsin</td>\n",
       "      <td>0.013088</td>\n",
       "      <td>Wisconsin</td>\n",
       "      <td>0.014489</td>\n",
       "    </tr>\n",
       "    <tr>\n",
       "      <th>13</th>\n",
       "      <td>Shepherd</td>\n",
       "      <td>0.006839</td>\n",
       "      <td>Washington</td>\n",
       "      <td>0.008891</td>\n",
       "      <td>Louisville</td>\n",
       "      <td>0.012613</td>\n",
       "      <td>Louisville</td>\n",
       "      <td>0.013977</td>\n",
       "    </tr>\n",
       "    <tr>\n",
       "      <th>14</th>\n",
       "      <td>California PA</td>\n",
       "      <td>0.006722</td>\n",
       "      <td>Virginia Tech</td>\n",
       "      <td>0.008789</td>\n",
       "      <td>Miami FL</td>\n",
       "      <td>0.012420</td>\n",
       "      <td>Miami FL</td>\n",
       "      <td>0.013753</td>\n",
       "    </tr>\n",
       "    <tr>\n",
       "      <th>15</th>\n",
       "      <td>North Dakota St</td>\n",
       "      <td>0.006549</td>\n",
       "      <td>Mount Union</td>\n",
       "      <td>0.008713</td>\n",
       "      <td>Southern Cal</td>\n",
       "      <td>0.011589</td>\n",
       "      <td>Southern Cal</td>\n",
       "      <td>0.012830</td>\n",
       "    </tr>\n",
       "    <tr>\n",
       "      <th>16</th>\n",
       "      <td>Baker</td>\n",
       "      <td>0.006369</td>\n",
       "      <td>Michigan</td>\n",
       "      <td>0.008199</td>\n",
       "      <td>North Carolina</td>\n",
       "      <td>0.011419</td>\n",
       "      <td>North Carolina</td>\n",
       "      <td>0.012612</td>\n",
       "    </tr>\n",
       "    <tr>\n",
       "      <th>17</th>\n",
       "      <td>Alfred</td>\n",
       "      <td>0.006291</td>\n",
       "      <td>Pittsburgh</td>\n",
       "      <td>0.008077</td>\n",
       "      <td>Oklahoma St</td>\n",
       "      <td>0.011292</td>\n",
       "      <td>Oklahoma St</td>\n",
       "      <td>0.012488</td>\n",
       "    </tr>\n",
       "    <tr>\n",
       "      <th>18</th>\n",
       "      <td>Grand Valley St</td>\n",
       "      <td>0.006196</td>\n",
       "      <td>Oklahoma</td>\n",
       "      <td>0.008041</td>\n",
       "      <td>Florida</td>\n",
       "      <td>0.011251</td>\n",
       "      <td>Florida</td>\n",
       "      <td>0.012456</td>\n",
       "    </tr>\n",
       "    <tr>\n",
       "      <th>19</th>\n",
       "      <td>North Alabama</td>\n",
       "      <td>0.006136</td>\n",
       "      <td>Emporia St</td>\n",
       "      <td>0.008007</td>\n",
       "      <td>Tennessee</td>\n",
       "      <td>0.010813</td>\n",
       "      <td>Tennessee</td>\n",
       "      <td>0.011973</td>\n",
       "    </tr>\n",
       "    <tr>\n",
       "      <th>20</th>\n",
       "      <td>Harding</td>\n",
       "      <td>0.005764</td>\n",
       "      <td>Penn State</td>\n",
       "      <td>0.007569</td>\n",
       "      <td>Auburn</td>\n",
       "      <td>0.010812</td>\n",
       "      <td>Auburn</td>\n",
       "      <td>0.011973</td>\n",
       "    </tr>\n",
       "    <tr>\n",
       "      <th>21</th>\n",
       "      <td>Marian IN</td>\n",
       "      <td>0.005566</td>\n",
       "      <td>Wisconsin</td>\n",
       "      <td>0.007290</td>\n",
       "      <td>Georgia Tech</td>\n",
       "      <td>0.009978</td>\n",
       "      <td>Georgia Tech</td>\n",
       "      <td>0.011050</td>\n",
       "    </tr>\n",
       "    <tr>\n",
       "      <th>22</th>\n",
       "      <td>North Central</td>\n",
       "      <td>0.005537</td>\n",
       "      <td>Louisville</td>\n",
       "      <td>0.006954</td>\n",
       "      <td>LSU</td>\n",
       "      <td>0.009547</td>\n",
       "      <td>LSU</td>\n",
       "      <td>0.010542</td>\n",
       "    </tr>\n",
       "    <tr>\n",
       "      <th>23</th>\n",
       "      <td>Trinity CT</td>\n",
       "      <td>0.005464</td>\n",
       "      <td>Miami FL</td>\n",
       "      <td>0.006904</td>\n",
       "      <td>Western Michigan</td>\n",
       "      <td>0.009521</td>\n",
       "      <td>Western Michigan</td>\n",
       "      <td>0.010537</td>\n",
       "    </tr>\n",
       "    <tr>\n",
       "      <th>24</th>\n",
       "      <td>Wheaton</td>\n",
       "      <td>0.005457</td>\n",
       "      <td>North Carolina</td>\n",
       "      <td>0.006544</td>\n",
       "      <td>Stanford</td>\n",
       "      <td>0.009511</td>\n",
       "      <td>Stanford</td>\n",
       "      <td>0.010524</td>\n",
       "    </tr>\n",
       "    <tr>\n",
       "      <th>25</th>\n",
       "      <td>Morningside</td>\n",
       "      <td>0.005442</td>\n",
       "      <td>Southern Cal</td>\n",
       "      <td>0.006449</td>\n",
       "      <td>James Madison</td>\n",
       "      <td>0.008683</td>\n",
       "      <td>Texas A&amp;M</td>\n",
       "      <td>0.009524</td>\n",
       "    </tr>\n",
       "  </tbody>\n",
       "</table>\n",
       "</div>"
      ],
      "text/plain": [
       "                  t=10    weight               t=100    weight  \\\n",
       "1   Mary Hardin-Baylor  0.014752      NW Missouri St  0.038258   \n",
       "2       NW Missouri St  0.013151             Alabama  0.033364   \n",
       "3              Alabama  0.012412             Clemson  0.032988   \n",
       "4              Clemson  0.011029  Mary Hardin-Baylor  0.030883   \n",
       "5           UW-Oshkosh  0.009925          UW-Oshkosh  0.016844   \n",
       "6            St Thomas  0.008178       UW-Whitewater  0.012160   \n",
       "7        UW-Whitewater  0.008168          Florida St  0.010444   \n",
       "8        St Francis IN  0.008098     Grand Valley St  0.010261   \n",
       "9          Mount Union  0.007755        John Carroll  0.010246   \n",
       "10       James Madison  0.007428          Ohio State  0.009941   \n",
       "11           Reinhardt  0.006954           Ferris St  0.009426   \n",
       "12        John Carroll  0.006911           St Thomas  0.009332   \n",
       "13            Shepherd  0.006839          Washington  0.008891   \n",
       "14       California PA  0.006722       Virginia Tech  0.008789   \n",
       "15     North Dakota St  0.006549         Mount Union  0.008713   \n",
       "16               Baker  0.006369            Michigan  0.008199   \n",
       "17              Alfred  0.006291          Pittsburgh  0.008077   \n",
       "18     Grand Valley St  0.006196            Oklahoma  0.008041   \n",
       "19       North Alabama  0.006136          Emporia St  0.008007   \n",
       "20             Harding  0.005764          Penn State  0.007569   \n",
       "21           Marian IN  0.005566           Wisconsin  0.007290   \n",
       "22       North Central  0.005537          Louisville  0.006954   \n",
       "23          Trinity CT  0.005464            Miami FL  0.006904   \n",
       "24             Wheaton  0.005457      North Carolina  0.006544   \n",
       "25         Morningside  0.005442        Southern Cal  0.006449   \n",
       "\n",
       "              t=1000    weight           t=10000    weight  \n",
       "1            Alabama  0.060719           Alabama  0.067282  \n",
       "2            Clemson  0.060408           Clemson  0.066983  \n",
       "3     NW Missouri St  0.030495        Florida St  0.020835  \n",
       "4         Florida St  0.018814        Ohio State  0.019922  \n",
       "5         Ohio State  0.017983        Washington  0.017579  \n",
       "6         Washington  0.015889     Virginia Tech  0.017524  \n",
       "7      Virginia Tech  0.015824          Michigan  0.016426  \n",
       "8           Michigan  0.014827    NW Missouri St  0.016342  \n",
       "9         Pittsburgh  0.014651        Pittsburgh  0.016235  \n",
       "10          Oklahoma  0.014390          Oklahoma  0.015922  \n",
       "11        Penn State  0.013672        Penn State  0.015144  \n",
       "12         Wisconsin  0.013088         Wisconsin  0.014489  \n",
       "13        Louisville  0.012613        Louisville  0.013977  \n",
       "14          Miami FL  0.012420          Miami FL  0.013753  \n",
       "15      Southern Cal  0.011589      Southern Cal  0.012830  \n",
       "16    North Carolina  0.011419    North Carolina  0.012612  \n",
       "17       Oklahoma St  0.011292       Oklahoma St  0.012488  \n",
       "18           Florida  0.011251           Florida  0.012456  \n",
       "19         Tennessee  0.010813         Tennessee  0.011973  \n",
       "20            Auburn  0.010812            Auburn  0.011973  \n",
       "21      Georgia Tech  0.009978      Georgia Tech  0.011050  \n",
       "22               LSU  0.009547               LSU  0.010542  \n",
       "23  Western Michigan  0.009521  Western Michigan  0.010537  \n",
       "24          Stanford  0.009511          Stanford  0.010524  \n",
       "25     James Madison  0.008683         Texas A&M  0.009524  "
      ]
     },
     "execution_count": 382,
     "metadata": {},
     "output_type": "execute_result"
    }
   ],
   "source": [
    "# Get top Team names\n",
    "Results_df = pd.DataFrame()\n",
    "for i in range(4): \n",
    "    Results_df = pd.concat([Results_df,teams_df.iloc[np.argsort(w_all[i])[::-1][:25],:].reset_index().Team_Name],axis = 1)\n",
    "    Results_df = pd.concat([Results_df,pd.Series(w_all[i][np.argsort(w_all[i])[::-1][:25]])],axis = 1)\n",
    "\n",
    "Results_df.columns = ['t=10','weight','t=100','weight','t=1000','weight','t=10000','weight']\n",
    "Results_df.index+=1\n",
    "Results_df"
   ]
  },
  {
   "cell_type": "markdown",
   "metadata": {},
   "source": [
    "## Solution 1(b)"
   ]
  },
  {
   "cell_type": "code",
   "execution_count": 196,
   "metadata": {
    "collapsed": false
   },
   "outputs": [
    {
     "data": {
      "image/png": "[encoded data removed]",
      "text/plain": [
       "<matplotlib.figure.Figure at 0x1821e080>"
      ]
     },
     "metadata": {},
     "output_type": "display_data"
    }
   ],
   "source": [
    "# Computing Eigen Vectors\n",
    "\n",
    "w_inf = scipy.sparse.linalg.eigs(M.T,k=1,sigma=1.0)[1]\n",
    "w_inf = w_inf/np.sum(w_inf)\n",
    "w_inf_rep = np.tile(w_inf.reshape(760),(10000,1))\n",
    "norms = nplg.norm(w_10000 - w_inf_rep,1,axis = 1)\n",
    "\n",
    "_=plt.figure(figsize = (10,8))\n",
    "_=plt.plot(range(10000),norms)\n",
    "_=plt.xlim([-100,10100])\n",
    "_=plt.title(\"Variation of $|w_\\infty - w_t |_1$ with t\", fontsize = 18)\n",
    "_=plt.xlabel(\"t\",fontsize = 14)\n",
    "_=plt.ylabel(\"$|w_\\infty - w_t |_1$\",fontsize = 14)\n"
   ]
  },
  {
   "cell_type": "markdown",
   "metadata": {},
   "source": [
    "## Solution - 2"
   ]
  },
  {
   "cell_type": "code",
   "execution_count": 224,
   "metadata": {
    "collapsed": false
   },
   "outputs": [
    {
     "data": {
      "text/plain": [
       "(3012L, 8447L)"
      ]
     },
     "execution_count": 224,
     "metadata": {},
     "output_type": "execute_result"
    }
   ],
   "source": [
    "# Parse File\n",
    "file = open(\"nyt_data.txt\",\"r\") \n",
    "X = np.zeros((3012,8447))\n",
    "c1 =0\n",
    "\n",
    "for line in file.readlines():\n",
    "    curr_line = line.split(\",\")\n",
    "    \n",
    "    for ele in curr_line:\n",
    "        X[int(ele.split(\":\")[0])-1][c1] = ele.split(\":\")[1]\n",
    "    c1 += 1\n"
   ]
  },
  {
   "cell_type": "code",
   "execution_count": 278,
   "metadata": {
    "collapsed": true
   },
   "outputs": [],
   "source": [
    "# Function to calculate objective function\n",
    "def objective():\n",
    "    err = (10**(-16))\n",
    "    WH = W.dot(H)\n",
    "    I = np.ones(WH.shape)\n",
    "    obj = X*np.log(I/(WH + err)) + WH\n",
    "    return np.sum(obj)"
   ]
  },
  {
   "cell_type": "code",
   "execution_count": 431,
   "metadata": {
    "collapsed": false
   },
   "outputs": [],
   "source": [
    "#Initialize W and H\n",
    "W = []\n",
    "H= []\n",
    "\n",
    "for i in range(X.shape[0]):\n",
    "    W.append(np.random.uniform(1,2,25))\n",
    "W = np.array(W)\n",
    "\n",
    "for i in range(X.shape[1]):\n",
    "    H.append(np.random.uniform(1,2,25))\n",
    "H = (np.array(H)).T\n",
    "\n",
    "obj_all=[]\n",
    "err = (10**(-16))\n",
    "for iter in range(100):\n",
    "    H = H * ((W.T/np.sum(W.T,axis =1)[:,np.newaxis]).dot(X/(W.dot(H)+err)))\n",
    "    W = W *((X/(W.dot(H)+err)).dot(H.T/np.sum(H.T,axis =0)[np.newaxis,:]))\n",
    "    obj_all.append(objective())    "
   ]
  },
  {
   "cell_type": "markdown",
   "metadata": {},
   "source": [
    "## Solution 2(a)"
   ]
  },
  {
   "cell_type": "code",
   "execution_count": 283,
   "metadata": {
    "collapsed": false
   },
   "outputs": [
    {
     "data": {
      "image/png": "[encoded data removed]",
      "text/plain": [
       "<matplotlib.figure.Figure at 0x183c4e80>"
      ]
     },
     "metadata": {},
     "output_type": "display_data"
    }
   ],
   "source": [
    "_=plt.figure(figsize = (10,8))\n",
    "_=plt.title(\"Variation of Divergence Penalty with itertions\", fontsize = 18)\n",
    "_=plt.xlabel(\"iter\",fontsize = 14)\n",
    "_=plt.ylabel(\"Divergence Penalty\",fontsize = 14)\n",
    "_=plt.plot(range(100),obj_all)"
   ]
  },
  {
   "cell_type": "markdown",
   "metadata": {},
   "source": [
    "## Solution 2 (b)"
   ]
  },
  {
   "cell_type": "code",
   "execution_count": 428,
   "metadata": {
    "collapsed": false
   },
   "outputs": [],
   "source": [
    "W_norm = (W/np.sum(W,axis =0)[np.newaxis,:])\n",
    "\n",
    "# Get Top Weights\n",
    "weights_ind = np.around(np.sort(W_norm,axis =0)[-10:,:].T,decimals = 6)\n",
    "\n",
    "# Get Top weighted Words' index\n",
    "words_ind = np.argsort(W_norm,axis = 0)[-10:,:].T\n",
    "\n",
    "# Read vocab\n",
    "vocab = pd.read_table(\"nyt_vocab.dat\",delimiter = \",\",header = None)\n"
   ]
  },
  {
   "cell_type": "code",
   "execution_count": 429,
   "metadata": {
    "collapsed": false
   },
   "outputs": [],
   "source": [
    "# Create 5 x 5 matrix of topics\n",
    "mat_topics = [] \n",
    "temp = []\n",
    "for i in range(25):\n",
    "    b = list(np.fliplr(weights_ind)[i])\n",
    "    c = list((np.char.array(vocab.iloc[np.fliplr(words_ind)[i],:])).reshape(10,))\n",
    "    topic = [m+'-'+str(n) for m,n in zip(c,b)]\n",
    "    temp.append(','.join(topic))\n",
    "    if len(temp)==5:\n",
    "        mat_topics.append(temp)\n",
    "        temp = []\n",
    "\n",
    "(pd.DataFrame(np.array(mat_topics)))"
   ]
  }
 ],
 "metadata": {
  "kernelspec": {
   "display_name": "Python [Root]",
   "language": "python",
   "name": "Python [Root]"
  },
  "language_info": {
   "codemirror_mode": {
    "name": "ipython",
    "version": 2
   },
   "file_extension": ".py",
   "mimetype": "text/x-python",
   "name": "python",
   "nbconvert_exporter": "python",
   "pygments_lexer": "ipython2",
   "version": "2.7.12"
  }
 },
 "nbformat": 4,
 "nbformat_minor": 0
}
