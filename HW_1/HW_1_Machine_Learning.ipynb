{
 "cells": [
  {
   "cell_type": "markdown",
   "metadata": {},
   "source": [
    "**Question 1 (A)**"
   ]
  },
  {
   "cell_type": "code",
   "execution_count": 1,
   "metadata": {
    "collapsed": false
   },
   "outputs": [],
   "source": [
    "# import libraries\n",
    "import numpy as np\n",
    "import numpy.linalg as nplg\n",
    "import matplotlib.pyplot as plt\n",
    "\n",
    "#Import Data as Numpy Matrices\n",
    "X_train = np.genfromtxt ('X_train.csv', delimiter=\",\")\n",
    "Y_train = np.genfromtxt ('y_train.csv',delimiter=\",\")\n",
    "X_test = np.genfromtxt ('X_test.csv', delimiter=\",\")\n",
    "Y_test = np.genfromtxt ('y_test.csv',delimiter=\",\")"
   ]
  },
  {
   "cell_type": "code",
   "execution_count": 8,
   "metadata": {
    "collapsed": false
   },
   "outputs": [],
   "source": [
    "#Obtain df and weights vector\n",
    "I=np.identity(len(X_train[0]))\n",
    "\n",
    "#Intializing variables\n",
    "Lambda=0\n",
    "W_rr_final=[]\n",
    "df=[]\n",
    "\n",
    "# Single Value Decomposition of X_train Matrix\n",
    "U, s, V = np.linalg.svd(X_train, full_matrices=True)\n",
    "\n",
    "for Lambda in xrange(5001):\n",
    "    W_rr=np.dot(np.dot((np.linalg.inv(np.dot(Lambda,I) + np.dot((X_train.transpose()),X_train))),(X_train.transpose())),Y_train)\n",
    "    W_rr_final.append(W_rr)\n",
    "    M=np.linalg.inv((Lambda*(np.linalg.inv(np.dot(np.diag(s),np.diag(s)))) + I))\n",
    "    df.append(np.trace(M))\n",
    "W_rr_final=np.array(W_rr_final)\n",
    "#plot degrees of freedom with parameter values\n",
    "colors = [i for i in 'bgrcmyk']\n",
    "label = ['dimension_'+str(i) for i in xrange(1,8)]\n",
    "\n",
    "for i in xrange(7): \n",
    "    plt.scatter(np.array(df),W_rr_final[:,i],c=colors[i],edgecolor='',s=10)\n",
    "    plt.plot(np.array(df),W_rr_final[:,i])\n",
    "plt.legend(label,loc=3) \n",
    "plt.xlabel(\"Degrees of Freedom\")\n",
    "plt.ylabel(\"Parameter Values\")\n",
    "plt.show()\n"
   ]
  },
  {
   "cell_type": "markdown",
   "metadata": {},
   "source": [
    "**Question - 1 (B)**\n",
    "\n",
    "The dimensions 4 and 6 are penalized the most by regularization. "
   ]
  },
  {
   "cell_type": "markdown",
   "metadata": {},
   "source": [
    "**Question - 1 (C)**"
   ]
  },
  {
   "cell_type": "code",
   "execution_count": 24,
   "metadata": {
    "collapsed": false
   },
   "outputs": [],
   "source": [
    "#Testing for Lambda 0,1,..50\n",
    "I=np.identity(7)\n",
    "RMSE=[]\n",
    "\n",
    "for Lambda in xrange(51):\n",
    "    W_rr=np.dot(np.dot((np.linalg.inv(np.dot(Lambda,I) + np.dot((X_train.transpose()),X_train))),(X_train.transpose())),Y_train)\n",
    "    Y_pred=np.dot(X_test,W_rr)\n",
    "    RMSE.append(np.sqrt((1.0/42)*sum([i*i for i in Y_test-Y_pred])))\n",
    "    \n",
    "plt.scatter(xrange(51),RMSE,s=10)\n",
    "plt.plot(xrange(51),RMSE)\n",
    "plt.xlabel(\"Regularization Parameter\")\n",
    "plt.ylabel(\"RMSE\")\n",
    "# plt.title(\"Variation of RMSE with Regularization Parameter\")\n",
    "plt.show()\n"
   ]
  },
  {
   "cell_type": "markdown",
   "metadata": {},
   "source": [
    "**Question - 1 (D)**"
   ]
  },
  {
   "cell_type": "code",
   "execution_count": null,
   "metadata": {
    "collapsed": false
   },
   "outputs": [],
   "source": [
    "#Polynoial p=1,2,3\n",
    "label=['p=1','p=2','p=3']\n",
    "\n",
    "X_train_sqr=np.power(X_train[:,0:6],2)\n",
    "X_train_cube= np.power(X_train[:,0:6],3)\n",
    "\n",
    "X_test_sqr=np.power(X_test[:,0:6],2)\n",
    "X_test_cube= np.power(X_test[:,0:6],3)\n",
    "\n",
    "X_train_1=X_train\n",
    "X_train_2=np.concatenate((X_train_1,X_train_sqr),axis=1)\n",
    "X_train_3=np.concatenate((X_train_2,X_train_cube),axis=1)\n",
    "\n",
    "X_test_1=X_test\n",
    "X_test_2=np.concatenate((X_test_1,X_test_sqr),axis=1)\n",
    "X_test_3=np.concatenate((X_test_2,X_test_cube),axis=1)\n",
    "\n",
    "for Xtrain,Xtest in [(X_train_1,X_test_1),(X_train_2,X_test_2),(X_train_3,X_test_3)]:\n",
    "    RMSE=[]\n",
    "    I=np.identity(len(Xtrain[0]))\n",
    "    for Lambda in xrange(501):\n",
    "        W_rr=np.dot(np.dot((np.linalg.inv(np.dot(Lambda,I) + np.dot((Xtrain.transpose()),Xtrain))),(Xtrain.transpose())),Y_train)\n",
    "        Y_pred=np.dot(Xtest,W_rr)\n",
    "        RMSE.append(np.sqrt((1.0/42)*sum([i*i for i in Y_test-Y_pred])))\n",
    "    \n",
    "\n",
    "    plt.scatter(xrange(501),RMSE,s=2)\n",
    "    plt.plot(xrange(501),RMSE)\n",
    "plt.xlabel(\"Regularization Parameter\")\n",
    "plt.ylabel(\"RMSE\")\n",
    "# plt.title(\"RMSE Vs. Regularization Parameter for p th order polynomial regression\")\n",
    "plt.legend(label,loc=4)\n",
    "plt.show()\n"
   ]
  }
 ],
 "metadata": {
  "kernelspec": {
   "display_name": "Python [Root]",
   "language": "python",
   "name": "Python [Root]"
  },
  "language_info": {
   "codemirror_mode": {
    "name": "ipython",
    "version": 2
   },
   "file_extension": ".py",
   "mimetype": "text/x-python",
   "name": "python",
   "nbconvert_exporter": "python",
   "pygments_lexer": "ipython2",
   "version": "2.7.12"
  }
 },
 "nbformat": 4,
 "nbformat_minor": 0
}
