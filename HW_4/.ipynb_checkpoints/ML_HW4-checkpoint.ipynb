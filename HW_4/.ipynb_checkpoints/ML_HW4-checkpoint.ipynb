{
 "cells": [
  {
   "cell_type": "code",
   "execution_count": 1,
   "metadata": {
    "collapsed": false
   },
   "outputs": [],
   "source": [
    "import numpy as np\n",
    "import numpy.linalg as nplg\n",
    "import pandas as pd\n",
    "import matplotlib.pyplot as plt\n",
    "import seaborn as sns\n",
    "\n",
    "% matplotlib inline"
   ]
  },
  {
   "cell_type": "markdown",
   "metadata": {},
   "source": [
    "# Problem - 1 (K-means)"
   ]
  },
  {
   "cell_type": "code",
   "execution_count": 12,
   "metadata": {
    "collapsed": false
   },
   "outputs": [],
   "source": [
    "# Generate Gaussian Samples \n",
    "\n",
    "models = np.array([1,2,3])\n",
    "weights = np.array([0.2,0.5,0.3])\n",
    "\n",
    "mean1 = np.array([0,0])\n",
    "cov1 = np.array([[1,0],[0,1]])\n",
    "\n",
    "mean2 = np.array([3,0])\n",
    "cov2 = np.array([[1,0],[0,1]])\n",
    "\n",
    "mean3 = np.array([0,3])\n",
    "cov3 = np.array([[1,0],[0,1]])\n",
    "\n",
    "samples = []\n",
    "\n",
    "for i in range(500):\n",
    "    \n",
    "    select = np.random.choice(models,p=weights)    \n",
    "    if select == 1:\n",
    "        samples.append(np.random.multivariate_normal(mean1, cov1))\n",
    "    if select == 2:\n",
    "        samples.append(np.random.multivariate_normal(mean2, cov2))\n",
    "    if select == 3:\n",
    "        samples.append(np.random.multivariate_normal(mean3, cov3))\n",
    "\n"
   ]
  },
  {
   "cell_type": "markdown",
   "metadata": {},
   "source": [
    "## a) For K = 2; 3; 4; 5, plot the value of the K-means objective function per iteration for 20 iterations"
   ]
  },
  {
   "cell_type": "code",
   "execution_count": 13,
   "metadata": {
    "collapsed": false
   },
   "outputs": [
    {
     "data": {
      "image/png": "[encoded data removed]",
      "text/plain": [
       "<matplotlib.figure.Figure at 0xaa895f8>"
      ]
     },
     "metadata": {},
     "output_type": "display_data"
    }
   ],
   "source": [
    "samples = np.array(samples)\n",
    "K = range(2,6)\n",
    "obj_all_k = []\n",
    "centroids_k = []\n",
    "final_clusters = []\n",
    "plt.figure(figsize=(8,6))\n",
    "for k in K:\n",
    "    \n",
    "    # Initialize centroids\n",
    "    index = np.random.choice(range(500),k)\n",
    "    centroids = samples[index]\n",
    "\n",
    "    # Intialize clusters array\n",
    "    c = np.zeros(500)\n",
    "    obj_all=[]\n",
    "    \n",
    "    # Start Iterations\n",
    "    for iteration in range(20):\n",
    "        for i in range(500):\n",
    "            norm=[]\n",
    "            for cent in centroids:\n",
    "                dist = (nplg.norm(samples[i]-cent,ord=2))**2\n",
    "                norm.append(dist)\n",
    "\n",
    "            norm=np.array(norm)\n",
    "            cluster = np.argmin(norm)\n",
    "            c[i]=cluster\n",
    "\n",
    "    # Calculate objective function\n",
    "        obj = 0\n",
    "        for m in range(len(centroids)):\n",
    "            diff = samples[np.where(c==m)] - np.repeat([centroids[m]],samples[np.where(c==m)].shape[0],axis=0)\n",
    "            obj_cluster = np.sum(nplg.norm(diff,ord=2,axis=1)**2)\n",
    "            obj = obj + obj_cluster\n",
    "\n",
    "        obj_all.append(obj)\n",
    "\n",
    "    # Re-calculate Centroids\n",
    "        for j in range(len(centroids)):\n",
    "            centroids[j] = np.sum(samples[np.where(c==j)],axis=0)/samples[np.where(c==j)].shape[0]\n",
    "            \n",
    "    final_clusters.append(c)\n",
    "    centroids_k.append(centroids)  \n",
    "    \n",
    "\n",
    "    plt.plot(range(20),obj_all,label=k)\n",
    "    plt.xlabel(\"iterations\")\n",
    "    plt.ylabel(\"Objective\")\n",
    "    plt.legend()"
   ]
  },
  {
   "cell_type": "markdown",
   "metadata": {},
   "source": [
    "## b) For K = 3; 5, plot the 500 data points and indicate the cluster of each for the final iteration by marking it with a color or a symbol."
   ]
  },
  {
   "cell_type": "code",
   "execution_count": null,
   "metadata": {
    "collapsed": false
   },
   "outputs": [],
   "source": [
    "\n",
    "# clusters_3 = pd.DataFrame(samples)\n",
    "clusters_3 = pd.DataFrame(np.concatenate((samples,np.transpose(np.matrix(final_clusters[1]))),1),columns=['x','y','cluster'])\n",
    "clusters_3['cluster'] = clusters_3.cluster.astype('int').astype('category')\n",
    "\n",
    "clusters_5 = pd.DataFrame(np.concatenate((samples,np.transpose(np.matrix(final_clusters[3]))),1),columns=['x','y','cluster'])\n",
    "clusters_5['cluster'] = clusters_5.cluster.astype('int').astype('category')\n",
    "\n",
    "_=sns.lmplot('x', 'y', data=clusters_3, hue='cluster', fit_reg=False)\n",
    "_=sns.lmplot('x', 'y', data=clusters_5, hue='cluster', fit_reg=False)\n",
    "\n",
    "\n"
   ]
  },
  {
   "cell_type": "markdown",
   "metadata": {},
   "source": [
    "# Problem - 2 (Matrix Factorization)"
   ]
  },
  {
   "cell_type": "code",
   "execution_count": 30,
   "metadata": {
    "collapsed": false
   },
   "outputs": [],
   "source": [
    "# import data\n",
    "\n",
    "train = pd.read_csv ('ratings.csv', delimiter=\",\",header=None,names=['User','Movie','Rating']) \n",
    "test = pd.read_csv ('ratings_test.csv', delimiter=\",\",header=None,names=['User','Movie','Rating'])\n"
   ]
  },
  {
   "cell_type": "code",
   "execution_count": 109,
   "metadata": {
    "collapsed": false
   },
   "outputs": [],
   "source": [
    "train_df = pd.pivot_table(train,columns='Movie',index='User',values='Rating').reset_index()\n",
    "train_matrix = train_df.as_matrix()"
   ]
  },
  {
   "cell_type": "code",
   "execution_count": 110,
   "metadata": {
    "collapsed": false
   },
   "outputs": [
    {
     "data": {
      "text/plain": [
       "array([[  1.00000000e+00,   1.46960000e+00,  -5.30390000e-01, ...,\n",
       "          0.00000000e+00,   0.00000000e+00,   0.00000000e+00],\n",
       "       [  2.00000000e+00,   4.69610000e-01,   0.00000000e+00, ...,\n",
       "          0.00000000e+00,   0.00000000e+00,   0.00000000e+00],\n",
       "       [  3.00000000e+00,   0.00000000e+00,   0.00000000e+00, ...,\n",
       "          0.00000000e+00,   0.00000000e+00,   0.00000000e+00],\n",
       "       ..., \n",
       "       [  9.41000000e+02,   1.46960000e+00,   0.00000000e+00, ...,\n",
       "          0.00000000e+00,   0.00000000e+00,   0.00000000e+00],\n",
       "       [  9.42000000e+02,   0.00000000e+00,   0.00000000e+00, ...,\n",
       "          0.00000000e+00,   0.00000000e+00,   0.00000000e+00],\n",
       "       [  9.43000000e+02,   0.00000000e+00,   1.46960000e+00, ...,\n",
       "          0.00000000e+00,   0.00000000e+00,   0.00000000e+00]])"
      ]
     },
     "execution_count": 110,
     "metadata": {},
     "output_type": "execute_result"
    }
   ],
   "source": [
    "# Since ratings cannot be 0 we replace all nan's with 0s so as to not use them\n",
    "train_matrix = np.nan_to_num(train_matrix)\n",
    "train_matrix"
   ]
  },
  {
   "cell_type": "code",
   "execution_count": 111,
   "metadata": {
    "collapsed": false
   },
   "outputs": [
    {
     "data": {
      "text/plain": [
       "array([[  1.00000000e+00,   1.46960000e+00,  -5.30390000e-01, ...,\n",
       "          0.00000000e+00,   0.00000000e+00,   0.00000000e+00],\n",
       "       [  2.00000000e+00,   4.69610000e-01,   0.00000000e+00, ...,\n",
       "          0.00000000e+00,   0.00000000e+00,   0.00000000e+00],\n",
       "       [  3.00000000e+00,   0.00000000e+00,   0.00000000e+00, ...,\n",
       "          0.00000000e+00,   0.00000000e+00,   0.00000000e+00],\n",
       "       ..., \n",
       "       [  9.41000000e+02,   1.46960000e+00,   0.00000000e+00, ...,\n",
       "          0.00000000e+00,   0.00000000e+00,   0.00000000e+00],\n",
       "       [  9.42000000e+02,   0.00000000e+00,   0.00000000e+00, ...,\n",
       "          0.00000000e+00,   0.00000000e+00,   0.00000000e+00],\n",
       "       [  9.43000000e+02,   0.00000000e+00,   1.46960000e+00, ...,\n",
       "          0.00000000e+00,   0.00000000e+00,   0.00000000e+00]])"
      ]
     },
     "execution_count": 111,
     "metadata": {},
     "output_type": "execute_result"
    }
   ],
   "source": [
    "np.sum(nplg.norm(ui,2,1))\n",
    "# vj = np.transpose((np.transpose(train_matrix).dot(ui)).dot((nplg.inv(sigma2*cov + np.transpose(ui).dot(ui)))))\n",
    "# train_matrix.shape\n",
    "train_matrix"
   ]
  },
  {
   "cell_type": "code",
   "execution_count": 112,
   "metadata": {
    "collapsed": false
   },
   "outputs": [],
   "source": [
    "ind_matrix = train_matrix.copy()\n",
    "ind_matrix[ind_matrix!=0]=1\n"
   ]
  },
  {
   "cell_type": "code",
   "execution_count": 162,
   "metadata": {
    "collapsed": false
   },
   "outputs": [
    {
     "data": {
      "text/plain": [
       "array([ 1.,  0.,  0.,  0.,  0.,  0.,  0.,  0.,  0.,  0.,  0.,  0.,  1.,\n",
       "        0.,  0.,  0.,  0.,  0.,  0.,  0.,  1.,  0.,  0.,  0.,  0.,  0.,\n",
       "        0.,  1.,  0.,  0.,  0.,  0.,  0.,  0.,  0.,  0.,  0.,  0.,  0.,\n",
       "        0.,  0.,  0.,  1.,  1.,  0.,  0.,  0.,  0.,  0.,  0.,  0.,  0.,\n",
       "        0.,  0.,  0.,  0.,  0.,  0.,  0.,  0.,  0.,  0.,  0.,  0.,  0.,\n",
       "        0.,  0.,  0.,  0.,  0.,  0.,  1.,  0.,  0.,  0.,  0.,  0.,  0.,\n",
       "        0.,  0.,  0.,  0.,  0.,  0.,  0.,  0.,  0.,  0.,  0.,  0.,  0.,\n",
       "        1.,  0.,  0.,  0.,  0.,  0.,  0.,  0.,  0.,  0.,  1.,  0.,  0.,\n",
       "        0.,  0.,  0.,  0.,  1.,  0.,  0.,  0.,  0.,  0.,  0.,  0.,  0.,\n",
       "        1.,  0.,  0.,  0.,  0.,  0.,  0.,  0.,  0.,  0.,  0.,  0.,  1.,\n",
       "        0.,  0.,  0.,  0.,  1.,  0.,  0.,  0.,  0.,  0.,  0.,  0.,  0.,\n",
       "        0.,  1.,  0.,  0.,  0.,  0.,  0.,  0.,  0.,  0.,  0.,  0.,  0.,\n",
       "        0.,  0.,  0.,  0.,  0.,  0.,  0.,  0.,  0.,  0.,  0.,  0.,  0.,\n",
       "        0.,  0.,  0.,  0.,  0.,  0.,  0.,  0.,  0.,  0.,  0.,  0.,  0.,\n",
       "        0.,  0.,  0.,  0.,  0.,  1.,  0.,  0.,  0.,  0.,  0.,  0.,  0.,\n",
       "        0.,  0.,  0.,  0.,  0.,  0.,  0.,  0.,  0.,  0.,  0.,  1.,  0.,\n",
       "        0.,  0.,  0.,  0.,  0.,  0.,  0.,  0.,  0.,  1.,  0.,  0.,  0.,\n",
       "        0.,  0.,  0.,  0.,  0.,  0.,  0.,  0.,  0.,  0.,  0.,  0.,  1.,\n",
       "        0.,  0.,  0.,  0.,  0.,  0.,  0.,  0.,  0.,  0.,  0.,  0.,  0.,\n",
       "        0.,  0.,  0.,  0.,  0.,  0.,  0.,  1.,  1.,  0.,  0.,  0.,  0.,\n",
       "        0.,  0.,  0.,  0.,  0.,  0.,  1.,  0.,  1.,  1.,  0.,  0.,  0.,\n",
       "        0.,  0.,  1.,  0.,  0.,  0.,  1.,  0.,  0.,  0.,  0.,  0.,  0.,\n",
       "        0.,  0.,  0.,  0.,  1.,  0.,  1.,  0.,  0.,  0.,  0.,  0.,  0.,\n",
       "        0.,  0.,  0.,  1.,  0.,  0.,  0.,  0.,  1.,  0.,  0.,  1.,  0.,\n",
       "        0.,  1.,  0.,  0.,  0.,  0.,  0.,  0.,  0.,  0.,  0.,  0.,  0.,\n",
       "        0.,  0.,  0.,  0.,  0.,  0.,  1.,  0.,  0.,  0.,  0.,  0.,  0.,\n",
       "        1.,  0.,  0.,  0.,  0.,  0.,  1.,  0.,  0.,  0.,  0.,  0.,  0.,\n",
       "        0.,  0.,  0.,  0.,  0.,  0.,  0.,  0.,  0.,  0.,  0.,  1.,  0.,\n",
       "        0.,  0.,  1.,  1.,  0.,  0.,  0.,  1.,  0.,  1.,  1.,  0.,  0.,\n",
       "        1.,  0.,  0.,  0.,  0.,  0.,  0.,  0.,  0.,  0.,  1.,  0.,  0.,\n",
       "        0.,  0.,  1.,  0.,  0.,  0.,  0.,  0.,  0.,  0.,  0.,  0.,  0.,\n",
       "        0.,  1.,  0.,  0.,  0.,  0.,  0.,  0.,  0.,  0.,  0.,  0.,  0.,\n",
       "        1.,  0.,  0.,  0.,  0.,  1.,  0.,  0.,  1.,  0.,  0.,  0.,  0.,\n",
       "        0.,  0.,  0.,  0.,  0.,  1.,  0.,  1.,  0.,  0.,  0.,  0.,  0.,\n",
       "        0.,  0.,  0.,  0.,  1.,  0.,  0.,  0.,  0.,  0.,  0.,  0.,  0.,\n",
       "        0.,  0.,  0.,  0.,  0.,  0.,  0.,  0.,  0.,  0.,  0.,  0.,  1.,\n",
       "        0.,  0.,  0.,  0.,  0.,  0.,  0.,  0.,  0.,  0.,  0.,  0.,  0.,\n",
       "        0.,  0.,  0.,  0.,  0.,  0.,  0.,  0.,  0.,  0.,  0.,  0.,  0.,\n",
       "        0.,  0.,  0.,  0.,  0.,  0.,  0.,  0.,  0.,  1.,  0.,  1.,  0.,\n",
       "        0.,  0.,  0.,  0.,  0.,  0.,  0.,  0.,  0.,  0.,  0.,  0.,  0.,\n",
       "        0.,  0.,  0.,  0.,  0.,  0.,  0.,  0.,  0.,  0.,  0.,  0.,  0.,\n",
       "        0.,  0.,  0.,  0.,  0.,  0.,  0.,  0.,  0.,  0.,  0.,  0.,  1.,\n",
       "        0.,  0.,  0.,  0.,  1.,  0.,  0.,  0.,  0.,  0.,  0.,  0.,  0.,\n",
       "        0.,  0.,  0.,  0.,  0.,  0.,  0.,  0.,  0.,  0.,  0.,  0.,  0.,\n",
       "        0.,  0.,  0.,  0.,  1.,  0.,  0.,  0.,  0.,  0.,  0.,  0.,  0.,\n",
       "        0.,  0.,  0.,  0.,  0.,  0.,  0.,  1.,  0.,  0.,  0.,  0.,  0.,\n",
       "        0.,  0.,  0.,  0.,  0.,  1.,  0.,  0.,  0.,  0.,  0.,  0.,  0.,\n",
       "        0.,  0.,  0.,  0.,  0.,  0.,  0.,  0.,  0.,  0.,  0.,  0.,  0.,\n",
       "        0.,  0.,  0.,  0.,  0.,  0.,  0.,  0.,  1.,  0.,  0.,  0.,  0.,\n",
       "        0.,  0.,  0.,  0.,  0.,  1.,  0.,  0.,  0.,  0.,  1.,  0.,  0.,\n",
       "        0.,  0.,  0.,  0.,  1.,  0.,  0.,  0.,  0.,  0.,  0.,  0.,  0.,\n",
       "        0.,  0.,  1.,  0.,  0.,  0.,  0.,  1.,  0.,  0.,  0.,  0.,  0.,\n",
       "        0.,  0.,  0.,  0.,  0.,  1.,  0.,  0.,  0.,  0.,  0.,  0.,  0.,\n",
       "        0.,  0.,  0.,  0.,  0.,  0.,  0.,  0.,  0.,  0.,  0.,  0.,  0.,\n",
       "        0.,  0.,  0.,  0.,  0.,  0.,  1.,  0.,  0.,  0.,  0.,  0.,  0.,\n",
       "        0.,  0.,  0.,  0.,  0.,  0.,  0.,  0.,  0.,  0.,  0.,  1.,  0.,\n",
       "        0.,  0.,  0.,  0.,  0.,  0.,  0.,  0.,  0.,  0.,  0.,  0.,  1.,\n",
       "        0.,  0.,  0.,  0.,  0.,  0.,  0.,  0.,  0.,  0.,  0.,  0.,  0.,\n",
       "        0.,  0.,  0.,  0.,  0.,  0.,  0.,  0.,  1.,  0.,  0.,  0.,  0.,\n",
       "        0.,  0.,  0.,  0.,  0.,  0.,  0.,  0.,  1.,  0.,  0.,  0.,  0.,\n",
       "        0.,  0.,  0.,  0.,  0.,  0.,  0.,  0.,  0.,  0.,  0.,  0.,  0.,\n",
       "        0.,  0.,  0.,  0.,  0.,  0.,  0.,  0.,  0.,  0.,  0.,  1.,  0.,\n",
       "        0.,  0.,  0.,  0.,  0.,  0.,  0.,  1.,  0.,  0.,  0.,  0.,  0.,\n",
       "        0.,  0.,  0.,  0.,  0.,  0.,  0.,  0.,  0.,  0.,  0.,  0.,  0.,\n",
       "        1.,  0.,  0.,  0.,  0.,  0.,  0.,  0.,  0.,  0.,  0.,  0.,  0.,\n",
       "        0.,  0.,  0.,  0.,  0.,  0.,  0.,  0.,  0.,  0.,  0.,  0.,  0.,\n",
       "        0.,  0.,  0.,  0.,  0.,  1.,  0.,  0.,  0.,  0.,  0.,  0.,  0.,\n",
       "        0.,  0.,  0.,  0.,  0.,  0.,  0.,  0.,  1.,  0.,  0.,  0.,  0.,\n",
       "        0.,  1.,  0.,  0.,  0.,  0.,  0.,  1.,  0.,  0.,  0.,  0.,  0.,\n",
       "        0.,  0.,  0.,  0.,  0.,  0.,  0.,  0.,  0.,  1.,  0.,  0.,  0.,\n",
       "        0.,  0.,  0.,  0.,  0.,  1.,  0.,  0.,  1.,  0.,  0.,  0.,  0.,\n",
       "        0.,  1.,  0.,  0.,  0.,  0.,  0.,  0.,  0.,  0.,  0.,  0.,  0.,\n",
       "        0.,  0.,  0.,  0.,  0.,  0.,  0.])"
      ]
     },
     "execution_count": 162,
     "metadata": {},
     "output_type": "execute_result"
    }
   ],
   "source": [
    "ind_matrix[:,5]"
   ]
  },
  {
   "cell_type": "code",
   "execution_count": null,
   "metadata": {
    "collapsed": false
   },
   "outputs": [],
   "source": [
    "N1 = train_matrix.shape[0]\n",
    "N2 = train_matrix.shape[1]\n",
    "\n",
    "sigma2 = 0.25\n",
    "d = 10\n",
    "lam = 1\n",
    "\n",
    "mean = np.zeros(d)\n",
    "cov = lam*np.diag(np.ones(d))\n",
    "\n",
    "# Initialize u and v\n",
    "\n",
    "u = np.random.multivariate_normal(mean,cov,N1)\n",
    "v = np.random.multivariate_normal(mean,cov,N2) \n",
    "obj=[]\n",
    "\n",
    "\n",
    "for itr in xrange(100):\n",
    "    \n",
    "    # Update u\n",
    "    \n",
    "    for i in range(N1):\n",
    "        sum1 = np.zeros((10,10))\n",
    "        sum2 = np.zeros(10)\n",
    "        \n",
    "        for j in np.where(ind_matrix[i]==1)[0]:\n",
    "            sum1 = sum1 + np.outer(v[j],v[j])\n",
    "            sum2 = sum2 + train_matrix[i][j]*v[j]\n",
    "\n",
    "            \n",
    "        u[i] = ((sum2.reshape(1,10)).dot(nplg.inv(sigma2*cov + sum1))).flatten()\n",
    "    \n",
    "    # Update v\n",
    "    for i in range(N2):\n",
    "        sum1 = np.zeros((10,10))\n",
    "        sum2 = np.zeros(10)\n",
    "        \n",
    "        for j in np.where(ind_matrix[:,i]==1)[0]:\n",
    "            sum1 = sum1 + np.outer(u[j],u[j])\n",
    "            sum2 = sum2 + train_matrix[j][i]*u[j]\n",
    "\n",
    "            \n",
    "        v[i] = ((sum2.reshape(1,10)).dot(nplg.inv(sigma2*cov + sum1))).flatten()\n",
    "    \n",
    "    \n"
   ]
  },
  {
   "cell_type": "code",
   "execution_count": 169,
   "metadata": {
    "collapsed": false
   },
   "outputs": [
    {
     "data": {
      "text/plain": [
       "(943L, 10L)"
      ]
     },
     "execution_count": 169,
     "metadata": {},
     "output_type": "execute_result"
    }
   ],
   "source": [
    "u.shape"
   ]
  },
  {
   "cell_type": "code",
   "execution_count": 82,
   "metadata": {
    "collapsed": false
   },
   "outputs": [
    {
     "data": {
      "text/plain": [
       "array([[  1.00000000e+00,   1.46960000e+00,  -5.30390000e-01, ...,\n",
       "                     nan,              nan,              nan],\n",
       "       [  2.00000000e+00,   4.69610000e-01,              nan, ...,\n",
       "                     nan,              nan,              nan],\n",
       "       [  3.00000000e+00,              nan,              nan, ...,\n",
       "                     nan,              nan,              nan],\n",
       "       ..., \n",
       "       [  9.41000000e+02,   1.46960000e+00,              nan, ...,\n",
       "                     nan,              nan,              nan],\n",
       "       [  9.42000000e+02,              nan,              nan, ...,\n",
       "                     nan,              nan,              nan],\n",
       "       [  9.43000000e+02,              nan,   1.46960000e+00, ...,\n",
       "                     nan,              nan,              nan]])"
      ]
     },
     "execution_count": 82,
     "metadata": {},
     "output_type": "execute_result"
    }
   ],
   "source": [
    "train_matrix"
   ]
  },
  {
   "cell_type": "markdown",
   "metadata": {},
   "source": [
    "## a) Run your code 10 times. For each run, initialize your ui and vj vectors as N(0; I) random vectors."
   ]
  },
  {
   "cell_type": "code",
   "execution_count": null,
   "metadata": {
    "collapsed": true
   },
   "outputs": [],
   "source": []
  }
 ],
 "metadata": {
  "anaconda-cloud": {},
  "kernelspec": {
   "display_name": "Python [Root]",
   "language": "python",
   "name": "Python [Root]"
  },
  "language_info": {
   "codemirror_mode": {
    "name": "ipython",
    "version": 2
   },
   "file_extension": ".py",
   "mimetype": "text/x-python",
   "name": "python",
   "nbconvert_exporter": "python",
   "pygments_lexer": "ipython2",
   "version": "2.7.12"
  }
 },
 "nbformat": 4,
 "nbformat_minor": 0
}
