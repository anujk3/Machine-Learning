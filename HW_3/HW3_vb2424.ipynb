{
 "cells": [
  {
   "cell_type": "markdown",
   "metadata": {},
   "source": [
    "# Home Work - 3: Machine Learning COMS4721\n",
    "### - Vinayak Bakshi, vb2424"
   ]
  },
  {
   "cell_type": "code",
   "execution_count": 1,
   "metadata": {
    "collapsed": false
   },
   "outputs": [
    {
     "data": {
      "text/html": [
       "<script>\n",
       "code_show=true; \n",
       "function code_toggle() {\n",
       " if (code_show){\n",
       " $('div.input').hide();\n",
       " } else {\n",
       " $('div.input').show();\n",
       " }\n",
       " code_show = !code_show\n",
       "} \n",
       "$( document ).ready(code_toggle);\n",
       "</script>\n",
       "<form action=\"javascript:code_toggle()\"><input type=\"submit\" value=\"Click here to toggle on/off the raw code.\"></form>"
      ],
      "text/plain": [
       "<IPython.core.display.HTML object>"
      ]
     },
     "execution_count": 1,
     "metadata": {},
     "output_type": "execute_result"
    }
   ],
   "source": [
    "from IPython.display import HTML\n",
    "HTML('''<script>\n",
    "code_show=true; \n",
    "function code_toggle() {\n",
    " if (code_show){\n",
    " $('div.input').hide();\n",
    " } else {\n",
    " $('div.input').show();\n",
    " }\n",
    " code_show = !code_show\n",
    "} \n",
    "$( document ).ready(code_toggle);\n",
    "</script>\n",
    "<form action=\"javascript:code_toggle()\"><input type=\"submit\" value=\"Click here to toggle on/off the raw code.\"></form>''')"
   ]
  },
  {
   "cell_type": "code",
   "execution_count": 2,
   "metadata": {
    "collapsed": false
   },
   "outputs": [],
   "source": [
    "# import libraries\n",
    "import math \n",
    "import numpy as np\n",
    "import numpy.linalg as nplg\n",
    "import matplotlib.pyplot as plt\n",
    "import pandas as pd\n",
    "# from scipy.interpolate import Rbf\n",
    "%matplotlib inline\n",
    "\n"
   ]
  },
  {
   "cell_type": "code",
   "execution_count": 23,
   "metadata": {
    "collapsed": false
   },
   "outputs": [],
   "source": [
    "#Import Data as Numpy Matrices\n",
    "\n",
    "X_train = np.genfromtxt ('./gaussian_process/X_train.csv', delimiter=\",\")\n",
    "Y_train = np.genfromtxt ('./gaussian_process/y_train.csv',delimiter=\",\")\n",
    "X_test = np.genfromtxt ('./gaussian_process/X_test.csv', delimiter=\",\")\n",
    "Y_test = np.genfromtxt ('./gaussian_process/y_test.csv',delimiter=\",\")"
   ]
  },
  {
   "cell_type": "code",
   "execution_count": 37,
   "metadata": {
    "collapsed": false
   },
   "outputs": [
    {
     "data": {
      "text/plain": [
       "array([-0.45626139,  0.7301673 , -0.28461867, -5.58558944,  0.28957774,\n",
       "        2.78139798,  0.        ])"
      ]
     },
     "execution_count": 37,
     "metadata": {},
     "output_type": "execute_result"
    }
   ],
   "source": [
    "from sklearn import linear_model\n",
    "import math \n",
    "import numpy as np\n",
    "import numpy.linalg as nplg\n",
    "import matplotlib.pyplot as plt\n",
    "import pandas as pd\n",
    "\n",
    "lm = linear_model.LinearRegression()\n",
    "lm.fit(X_train,Y_train)\n",
    "lm.coef_"
   ]
  },
  {
   "cell_type": "code",
   "execution_count": 41,
   "metadata": {
    "collapsed": false
   },
   "outputs": [
    {
     "data": {
      "text/plain": [
       "array([ 0.01015709, -0.45626139,  0.7301673 , -0.28461867, -5.58558944,\n",
       "        0.28957774,  2.78139798,  0.        ])"
      ]
     },
     "execution_count": 41,
     "metadata": {},
     "output_type": "execute_result"
    }
   ],
   "source": [
    "bias=np.array(lm.intercept_)\n",
    "final=np.append(bias,lm.coef_)\n",
    "final"
   ]
  },
  {
   "cell_type": "code",
   "execution_count": null,
   "metadata": {
    "collapsed": true
   },
   "outputs": [],
   "source": []
  },
  {
   "cell_type": "code",
   "execution_count": 4,
   "metadata": {
    "collapsed": true
   },
   "outputs": [],
   "source": [
    "# Define Kernel functions\n",
    "\n",
    "def Kernel_Vector(X,x,b):\n",
    "    x_mat=np.transpose(np.outer(x,np.ones(len(X))))\n",
    "    norm_vec=np.square(nplg.norm(X-x_mat,2,1))\n",
    "    return np.exp(-(1.0/b)*norm_vec)\n",
    "\n",
    "def Kernel_Matrix(X,b):\n",
    "    K=[]\n",
    "    for i in xrange(len(X)):\n",
    "        K_temp=Kernel_Vector(X,X[i],b)\n",
    "        K.append(K_temp)\n",
    "    return np.matrix(K) "
   ]
  },
  {
   "cell_type": "code",
   "execution_count": 36,
   "metadata": {
    "collapsed": false
   },
   "outputs": [
    {
     "data": {
      "text/plain": [
       "array([[-0.36707 ],\n",
       "       [ 0.3592  ],\n",
       "       [-0.99778 ],\n",
       "       [-0.69198 ],\n",
       "       [-0.92133 ],\n",
       "       [-0.92133 ],\n",
       "       [-0.51997 ],\n",
       "       [-0.77799 ],\n",
       "       [ 0.0534  ],\n",
       "       [ 1.4964  ],\n",
       "       [-0.83533 ],\n",
       "       [ 1.0568  ],\n",
       "       [-0.98823 ],\n",
       "       [ 0.3592  ],\n",
       "       [ 0.29231 ],\n",
       "       [ 0.53121 ],\n",
       "       [-0.93089 ],\n",
       "       [ 1.4964  ],\n",
       "       [-0.85444 ],\n",
       "       [-0.57731 ],\n",
       "       [-0.99778 ],\n",
       "       [-0.41485 ],\n",
       "       [ 1.9646  ],\n",
       "       [-0.99778 ],\n",
       "       [-0.76843 ],\n",
       "       [ 0.29231 ],\n",
       "       [-0.72065 ],\n",
       "       [-0.69198 ],\n",
       "       [ 0.53121 ],\n",
       "       [-0.70154 ],\n",
       "       [ 1.0281  ],\n",
       "       [-0.20462 ],\n",
       "       [ 0.53121 ],\n",
       "       [ 2.2418  ],\n",
       "       [-0.92133 ],\n",
       "       [-0.41485 ],\n",
       "       [ 1.181   ],\n",
       "       [-0.41485 ],\n",
       "       [-0.56775 ],\n",
       "       [ 1.9646  ],\n",
       "       [ 0.53121 ],\n",
       "       [-0.92133 ],\n",
       "       [-0.93089 ],\n",
       "       [-0.83533 ],\n",
       "       [-0.7111  ],\n",
       "       [ 1.181   ],\n",
       "       [-0.46264 ],\n",
       "       [ 1.5824  ],\n",
       "       [-0.93089 ],\n",
       "       [-0.82577 ],\n",
       "       [ 1.4868  ],\n",
       "       [-0.57731 ],\n",
       "       [ 1.4868  ],\n",
       "       [ 0.034288],\n",
       "       [-0.92133 ],\n",
       "       [ 1.0281  ],\n",
       "       [ 1.4868  ],\n",
       "       [-0.92133 ],\n",
       "       [ 1.4868  ],\n",
       "       [-0.51997 ],\n",
       "       [ 1.8022  ],\n",
       "       [ 0.034288],\n",
       "       [-1.1698  ],\n",
       "       [ 1.5824  ],\n",
       "       [-0.56775 ],\n",
       "       [-0.10906 ],\n",
       "       [-0.75888 ],\n",
       "       [-0.69198 ],\n",
       "       [ 1.4868  ],\n",
       "       [-0.93089 ],\n",
       "       [-1.036   ],\n",
       "       [-0.2524  ],\n",
       "       [ 0.60766 ],\n",
       "       [ 1.5824  ],\n",
       "       [ 1.0568  ],\n",
       "       [-0.82577 ],\n",
       "       [ 0.53121 ],\n",
       "       [ 0.60766 ],\n",
       "       [-0.92133 ],\n",
       "       [-0.78755 ],\n",
       "       [-0.85444 ],\n",
       "       [-0.7971  ],\n",
       "       [-0.70154 ],\n",
       "       [ 0.0534  ],\n",
       "       [-0.20462 ],\n",
       "       [ 1.4868  ],\n",
       "       [-0.51997 ],\n",
       "       [-0.51997 ],\n",
       "       [-1.1029  ],\n",
       "       [-0.98823 ],\n",
       "       [-1.0456  ],\n",
       "       [-0.37663 ],\n",
       "       [ 1.181   ],\n",
       "       [-0.51997 ],\n",
       "       [-0.99778 ],\n",
       "       [ 1.181   ],\n",
       "       [-0.74932 ],\n",
       "       [-1.0073  ],\n",
       "       [-1.1029  ],\n",
       "       [ 0.34964 ],\n",
       "       [ 1.0281  ],\n",
       "       [-0.7111  ],\n",
       "       [-0.12817 ],\n",
       "       [ 1.0472  ],\n",
       "       [ 1.4868  ],\n",
       "       [ 1.9646  ],\n",
       "       [ 1.4868  ],\n",
       "       [-0.69198 ],\n",
       "       [-0.57731 ],\n",
       "       [-0.93089 ],\n",
       "       [-1.0933  ],\n",
       "       [ 0.3592  ],\n",
       "       [ 0.29231 ],\n",
       "       [ 0.3592  ],\n",
       "       [-1.0073  ],\n",
       "       [-1.1029  ],\n",
       "       [ 0.3592  ],\n",
       "       [ 2.4807  ],\n",
       "       [ 1.0472  ],\n",
       "       [ 0.64589 ],\n",
       "       [-0.2524  ],\n",
       "       [-0.74932 ],\n",
       "       [-0.92133 ],\n",
       "       [ 1.4868  ],\n",
       "       [-0.83533 ],\n",
       "       [-0.99778 ],\n",
       "       [ 0.62677 ],\n",
       "       [ 1.9646  ],\n",
       "       [ 1.4868  ],\n",
       "       [-0.93089 ],\n",
       "       [-0.92133 ],\n",
       "       [-0.72065 ],\n",
       "       [ 0.53121 ],\n",
       "       [ 1.181   ],\n",
       "       [-1.1029  ],\n",
       "       [-0.92611 ],\n",
       "       [-0.51997 ],\n",
       "       [-0.70154 ],\n",
       "       [-0.51997 ],\n",
       "       [-1.1316  ],\n",
       "       [-0.93089 ],\n",
       "       [-0.72065 ],\n",
       "       [ 0.29231 ],\n",
       "       [ 1.181   ],\n",
       "       [-0.78755 ],\n",
       "       [ 0.34964 ],\n",
       "       [-0.36707 ],\n",
       "       [-0.98823 ],\n",
       "       [-0.93089 ],\n",
       "       [ 1.181   ],\n",
       "       [ 1.8022  ],\n",
       "       [-0.98823 ],\n",
       "       [ 0.29231 ],\n",
       "       [-0.36707 ],\n",
       "       [ 1.181   ],\n",
       "       [ 0.0534  ],\n",
       "       [-0.70154 ],\n",
       "       [-1.1029  ],\n",
       "       [-0.99778 ],\n",
       "       [ 0.64589 ],\n",
       "       [ 1.9646  ],\n",
       "       [-0.98823 ],\n",
       "       [ 0.29231 ],\n",
       "       [-0.92133 ],\n",
       "       [ 0.043844],\n",
       "       [-0.98823 ],\n",
       "       [-0.93089 ],\n",
       "       [-0.92133 ],\n",
       "       [ 1.0281  ],\n",
       "       [-0.51997 ],\n",
       "       [-1.1889  ],\n",
       "       [-0.57731 ],\n",
       "       [ 1.0568  ],\n",
       "       [-1.0456  ],\n",
       "       [ 1.181   ],\n",
       "       [ 0.53121 ],\n",
       "       [-0.70154 ],\n",
       "       [ 0.53121 ],\n",
       "       [-0.92133 ],\n",
       "       [-1.1889  ],\n",
       "       [-0.98823 ],\n",
       "       [-0.93089 ],\n",
       "       [ 1.0281  ],\n",
       "       [-0.56775 ],\n",
       "       [ 0.53121 ],\n",
       "       [ 1.0281  ],\n",
       "       [-0.85444 ],\n",
       "       [-0.69198 ],\n",
       "       [ 1.0568  ],\n",
       "       [-0.7111  ],\n",
       "       [ 2.4902  ],\n",
       "       [ 0.3592  ],\n",
       "       [-0.98823 ],\n",
       "       [ 0.29231 ],\n",
       "       [ 1.4868  ],\n",
       "       [-0.56775 ],\n",
       "       [-0.51997 ],\n",
       "       [-0.70154 ],\n",
       "       [ 1.9646  ],\n",
       "       [-0.60598 ],\n",
       "       [-0.98823 ],\n",
       "       [ 0.29231 ],\n",
       "       [ 0.62677 ],\n",
       "       [ 1.9646  ],\n",
       "       [-0.46264 ],\n",
       "       [-0.98823 ],\n",
       "       [ 0.29231 ],\n",
       "       [-1.0647  ],\n",
       "       [-0.41485 ],\n",
       "       [ 0.0534  ],\n",
       "       [-0.20462 ],\n",
       "       [-0.46264 ],\n",
       "       [ 1.9646  ],\n",
       "       [ 1.181   ],\n",
       "       [-0.93089 ],\n",
       "       [-1.208   ],\n",
       "       [-0.7111  ],\n",
       "       [ 0.0534  ],\n",
       "       [ 2.3469  ],\n",
       "       [-0.83533 ],\n",
       "       [ 2.2418  ],\n",
       "       [-0.85444 ],\n",
       "       [-0.93089 ],\n",
       "       [ 1.0472  ],\n",
       "       [-0.7111  ],\n",
       "       [ 0.29231 ],\n",
       "       [ 2.2418  ],\n",
       "       [ 0.29231 ],\n",
       "       [-0.51997 ],\n",
       "       [ 0.69367 ],\n",
       "       [ 0.62677 ],\n",
       "       [ 1.0281  ],\n",
       "       [-0.98823 ],\n",
       "       [-0.93089 ],\n",
       "       [-0.92133 ],\n",
       "       [-0.93089 ],\n",
       "       [-0.2524  ],\n",
       "       [-0.82577 ],\n",
       "       [ 1.4964  ],\n",
       "       [ 1.4868  ],\n",
       "       [-0.41485 ],\n",
       "       [ 1.4964  ],\n",
       "       [-0.94045 ],\n",
       "       [-0.36707 ],\n",
       "       [ 1.181   ],\n",
       "       [-0.93089 ],\n",
       "       [-0.36707 ],\n",
       "       [ 0.3592  ],\n",
       "       [ 1.0472  ],\n",
       "       [-1.0073  ],\n",
       "       [ 1.0281  ],\n",
       "       [ 0.60766 ],\n",
       "       [-0.98823 ],\n",
       "       [ 0.53121 ],\n",
       "       [-0.70154 ],\n",
       "       [-0.41485 ],\n",
       "       [-0.7111  ],\n",
       "       [-0.72065 ],\n",
       "       [-0.93089 ],\n",
       "       [-1.1794  ],\n",
       "       [ 1.0472  ],\n",
       "       [-0.80666 ],\n",
       "       [-0.93089 ],\n",
       "       [-1.036   ],\n",
       "       [-0.72065 ],\n",
       "       [-0.47219 ],\n",
       "       [-0.78755 ],\n",
       "       [ 0.043844],\n",
       "       [ 0.34964 ],\n",
       "       [-1.0169  ],\n",
       "       [-0.85444 ],\n",
       "       [-1.0456  ],\n",
       "       [-0.89266 ],\n",
       "       [-0.51997 ],\n",
       "       [ 0.3592  ],\n",
       "       [-0.51042 ],\n",
       "       [ 0.34964 ],\n",
       "       [ 1.181   ],\n",
       "       [-0.82577 ],\n",
       "       [-0.51997 ],\n",
       "       [-0.69198 ],\n",
       "       [-0.93089 ],\n",
       "       [-0.51042 ],\n",
       "       [-0.70154 ],\n",
       "       [-0.36707 ],\n",
       "       [-1.0073  ],\n",
       "       [-0.41485 ],\n",
       "       [-1.0456  ],\n",
       "       [-0.70154 ],\n",
       "       [-1.0456  ],\n",
       "       [ 1.0759  ],\n",
       "       [ 0.3592  ],\n",
       "       [-0.51997 ],\n",
       "       [-0.82577 ],\n",
       "       [-0.69198 ],\n",
       "       [ 1.0281  ],\n",
       "       [-0.74932 ],\n",
       "       [ 1.4868  ],\n",
       "       [ 1.5824  ],\n",
       "       [ 1.9646  ],\n",
       "       [ 1.4868  ],\n",
       "       [ 0.0534  ],\n",
       "       [-0.30018 ],\n",
       "       [ 2.3469  ],\n",
       "       [ 1.4964  ],\n",
       "       [ 0.60766 ],\n",
       "       [-0.93089 ],\n",
       "       [-0.93089 ],\n",
       "       [ 0.53121 ],\n",
       "       [ 1.9646  ],\n",
       "       [ 1.181   ],\n",
       "       [-1.1794  ],\n",
       "       [-0.77799 ],\n",
       "       [ 0.29231 ],\n",
       "       [-0.99778 ],\n",
       "       [-0.99778 ],\n",
       "       [ 1.4964  ],\n",
       "       [-1.0456  ],\n",
       "       [ 1.0759  ],\n",
       "       [ 1.0759  ],\n",
       "       [ 0.034288],\n",
       "       [-0.92133 ],\n",
       "       [ 0.53121 ],\n",
       "       [-0.41485 ],\n",
       "       [-0.22373 ],\n",
       "       [ 0.53121 ],\n",
       "       [-0.48175 ],\n",
       "       [-0.7111  ],\n",
       "       [ 1.9646  ],\n",
       "       [-0.7111  ],\n",
       "       [-1.0456  ],\n",
       "       [-1.1889  ],\n",
       "       [-0.92133 ],\n",
       "       [-0.864   ],\n",
       "       [-1.1029  ],\n",
       "       [-0.85444 ],\n",
       "       [ 1.4868  ],\n",
       "       [ 0.3592  ],\n",
       "       [ 1.181   ],\n",
       "       [ 1.181   ],\n",
       "       [-0.72065 ],\n",
       "       [-0.78755 ],\n",
       "       [ 0.34964 ],\n",
       "       [-1.036   ],\n",
       "       [ 1.4964  ],\n",
       "       [-1.0073  ],\n",
       "       [ 1.4964  ],\n",
       "       [ 0.53121 ],\n",
       "       [-0.30018 ],\n",
       "       [ 1.0281  ]])"
      ]
     },
     "execution_count": 36,
     "metadata": {},
     "output_type": "execute_result"
    }
   ],
   "source": [
    "X_train[:,1:2]"
   ]
  },
  {
   "cell_type": "code",
   "execution_count": 5,
   "metadata": {
    "collapsed": false
   },
   "outputs": [],
   "source": [
    "# Implementation of Gaussian Process\n",
    "\n",
    "sigma2=np.linspace(0.1,1,10)\n",
    "b_space=np.linspace(5,15,6)\n",
    "RMSE=[]\n",
    "RMSE_table=np.zeros((len(sigma2),len(b_space)))\n",
    "\n",
    "for sig in xrange(len(sigma2)):\n",
    "    for b in xrange(len(b_space)):\n",
    "        Y_pred=[]\n",
    "        for i in xrange(len(X_test)):\n",
    "            Kv=Kernel_Vector(X_train,X_test[i],b_space[b])\n",
    "            mean=np.asscalar((Kv.dot(nplg.inv(Kernel_Matrix(X_train,b_space[b]) + ((sigma2[sig]))*np.identity(len(X_train))))).dot(Y_train))\n",
    "            Y_pred.append(mean)\n",
    "        RMSE.append(np.sqrt((1.0/len(Y_test))*sum(np.square(np.array(Y_pred)-Y_test))))\n",
    "        RMSE_table[sig][b]= np.sqrt((1.0/len(Y_test))*sum(np.square(np.array(Y_pred)-Y_test)))\n",
    "        "
   ]
  },
  {
   "cell_type": "markdown",
   "metadata": {},
   "source": [
    "## 1 (b): RMSE Table"
   ]
  },
  {
   "cell_type": "code",
   "execution_count": 6,
   "metadata": {
    "collapsed": false
   },
   "outputs": [
    {
     "data": {
      "text/html": [
       "<div>\n",
       "<table border=\"1\" class=\"dataframe\">\n",
       "  <thead>\n",
       "    <tr style=\"text-align: right;\">\n",
       "      <th></th>\n",
       "      <th>b = 5.0</th>\n",
       "      <th>b = 7.0</th>\n",
       "      <th>b = 9.0</th>\n",
       "      <th>b = 11.0</th>\n",
       "      <th>b = 13.0</th>\n",
       "      <th>b = 15.0</th>\n",
       "    </tr>\n",
       "  </thead>\n",
       "  <tbody>\n",
       "    <tr>\n",
       "      <th>$\\sigma^2$ = 0.1</th>\n",
       "      <td>1.966276</td>\n",
       "      <td>1.920163</td>\n",
       "      <td>1.897649</td>\n",
       "      <td>1.890507</td>\n",
       "      <td>1.895849</td>\n",
       "      <td>1.909603</td>\n",
       "    </tr>\n",
       "    <tr>\n",
       "      <th>$\\sigma^2$ = 0.2</th>\n",
       "      <td>1.933135</td>\n",
       "      <td>1.904877</td>\n",
       "      <td>1.902519</td>\n",
       "      <td>1.914981</td>\n",
       "      <td>1.935586</td>\n",
       "      <td>1.959549</td>\n",
       "    </tr>\n",
       "    <tr>\n",
       "      <th>$\\sigma^2$ = 0.3</th>\n",
       "      <td>1.923420</td>\n",
       "      <td>1.908080</td>\n",
       "      <td>1.917648</td>\n",
       "      <td>1.938849</td>\n",
       "      <td>1.964597</td>\n",
       "      <td>1.990804</td>\n",
       "    </tr>\n",
       "    <tr>\n",
       "      <th>$\\sigma^2$ = 0.4</th>\n",
       "      <td>1.922198</td>\n",
       "      <td>1.915902</td>\n",
       "      <td>1.932514</td>\n",
       "      <td>1.957936</td>\n",
       "      <td>1.985502</td>\n",
       "      <td>2.011915</td>\n",
       "    </tr>\n",
       "    <tr>\n",
       "      <th>$\\sigma^2$ = 0.5</th>\n",
       "      <td>1.924769</td>\n",
       "      <td>1.924804</td>\n",
       "      <td>1.945699</td>\n",
       "      <td>1.973216</td>\n",
       "      <td>2.001314</td>\n",
       "      <td>2.027370</td>\n",
       "    </tr>\n",
       "    <tr>\n",
       "      <th>$\\sigma^2$ = 0.6</th>\n",
       "      <td>1.929213</td>\n",
       "      <td>1.933701</td>\n",
       "      <td>1.957235</td>\n",
       "      <td>1.985764</td>\n",
       "      <td>2.013878</td>\n",
       "      <td>2.039465</td>\n",
       "    </tr>\n",
       "    <tr>\n",
       "      <th>$\\sigma^2$ = 0.7</th>\n",
       "      <td>1.934634</td>\n",
       "      <td>1.942254</td>\n",
       "      <td>1.967403</td>\n",
       "      <td>1.996375</td>\n",
       "      <td>2.024310</td>\n",
       "      <td>2.049463</td>\n",
       "    </tr>\n",
       "    <tr>\n",
       "      <th>$\\sigma^2$ = 0.8</th>\n",
       "      <td>1.940583</td>\n",
       "      <td>1.950380</td>\n",
       "      <td>1.976492</td>\n",
       "      <td>2.005603</td>\n",
       "      <td>2.033307</td>\n",
       "      <td>2.058105</td>\n",
       "    </tr>\n",
       "    <tr>\n",
       "      <th>$\\sigma^2$ = 0.9</th>\n",
       "      <td>1.946820</td>\n",
       "      <td>1.958093</td>\n",
       "      <td>1.984741</td>\n",
       "      <td>2.013835</td>\n",
       "      <td>2.041317</td>\n",
       "      <td>2.065845</td>\n",
       "    </tr>\n",
       "    <tr>\n",
       "      <th>$\\sigma^2$ = 1.0</th>\n",
       "      <td>1.953213</td>\n",
       "      <td>1.965438</td>\n",
       "      <td>1.992341</td>\n",
       "      <td>2.021345</td>\n",
       "      <td>2.048642</td>\n",
       "      <td>2.072976</td>\n",
       "    </tr>\n",
       "  </tbody>\n",
       "</table>\n",
       "</div>"
      ],
      "text/plain": [
       "                   b = 5.0   b = 7.0   b = 9.0  b = 11.0  b = 13.0  b = 15.0\n",
       "$\\sigma^2$ = 0.1  1.966276  1.920163  1.897649  1.890507  1.895849  1.909603\n",
       "$\\sigma^2$ = 0.2  1.933135  1.904877  1.902519  1.914981  1.935586  1.959549\n",
       "$\\sigma^2$ = 0.3  1.923420  1.908080  1.917648  1.938849  1.964597  1.990804\n",
       "$\\sigma^2$ = 0.4  1.922198  1.915902  1.932514  1.957936  1.985502  2.011915\n",
       "$\\sigma^2$ = 0.5  1.924769  1.924804  1.945699  1.973216  2.001314  2.027370\n",
       "$\\sigma^2$ = 0.6  1.929213  1.933701  1.957235  1.985764  2.013878  2.039465\n",
       "$\\sigma^2$ = 0.7  1.934634  1.942254  1.967403  1.996375  2.024310  2.049463\n",
       "$\\sigma^2$ = 0.8  1.940583  1.950380  1.976492  2.005603  2.033307  2.058105\n",
       "$\\sigma^2$ = 0.9  1.946820  1.958093  1.984741  2.013835  2.041317  2.065845\n",
       "$\\sigma^2$ = 1.0  1.953213  1.965438  1.992341  2.021345  2.048642  2.072976"
      ]
     },
     "execution_count": 6,
     "metadata": {},
     "output_type": "execute_result"
    }
   ],
   "source": [
    "df=pd.DataFrame(RMSE_table)\n",
    "df.columns=[m+str(n) for m,n in zip(['b = ']*len(b_space),b_space)]\n",
    "df.index = [m+str(n) for m,n in zip(['$\\sigma^2$ = ']*len(sigma2),sigma2)]\n",
    "df\n",
    "# plt.scatter(range(60),RMSE)"
   ]
  },
  {
   "cell_type": "markdown",
   "metadata": {},
   "source": [
    "## 1 (c): Best RMSE value = 1.8905, for b=11, sigma = 0.1\n",
    "\n",
    "Compared to the first homework where we use ridge regression, we obtain a minimum RMSE of **2.192** for hyper-parameter =21 and polynomial of degree 2. By using Gaussian process we obtain a minimum RMSE of **1.8905**. Therefore this approach is better in terms of accuracy.\n",
    "\n",
    "**Drawback:** We do not obtain feature weights as output from the Gaussian process implementation. Hence we do not know the importance of features in the prediction of output since they are being mapped to a higher dimensional space."
   ]
  },
  {
   "cell_type": "markdown",
   "metadata": {},
   "source": [
    "## 1 (d):  Gaussian Process for 4th dimension"
   ]
  },
  {
   "cell_type": "code",
   "execution_count": 7,
   "metadata": {
    "collapsed": false
   },
   "outputs": [],
   "source": [
    "X_train_4th_dim = np.hstack((np.ones((X_train.shape[0],1)),np.transpose(np.matrix(X_train[:,3]))))\n",
    "\n",
    "Y_pred=[]\n",
    "b=5\n",
    "sig2=2\n",
    "\n",
    "for i in xrange(len(X_train_4th_dim)):\n",
    "    Kv=Kernel_Vector(X_train_4th_dim,X_train_4th_dim[i],b)\n",
    "    mean=np.asscalar((Kv.dot(nplg.inv(Kernel_Matrix(X_train_4th_dim,b) + ((sig2))*np.identity(len(X_train_4th_dim))))).dot(Y_train))\n",
    "    Y_pred.append(mean)\n",
    "    "
   ]
  },
  {
   "cell_type": "code",
   "execution_count": 8,
   "metadata": {
    "collapsed": false
   },
   "outputs": [],
   "source": [
    "X_train_4th = np.array(X_train_4th_dim[:,1].flatten().tolist()[0])"
   ]
  },
  {
   "cell_type": "code",
   "execution_count": 9,
   "metadata": {
    "collapsed": false
   },
   "outputs": [
    {
     "data": {
      "text/plain": [
       "<matplotlib.legend.Legend at 0x858b320>"
      ]
     },
     "execution_count": 9,
     "metadata": {},
     "output_type": "execute_result"
    },
    {
     "data": {
      "image/png": "[encoded data removed]",
      "text/plain": [
       "<matplotlib.figure.Figure at 0x85c3c18>"
      ]
     },
     "metadata": {},
     "output_type": "display_data"
    }
   ],
   "source": [
    "Y_pred=np.array(Y_pred)\n",
    "plt.figure(figsize=(8,6))\n",
    "plt.scatter(X_train[:,3],Y_train,label='Training value')\n",
    "plt.plot(X_train_4th_dim[X_train_4th.argsort(),1], Y_pred[X_train_4th.argsort()],color='r',label = 'Predictive mean',linewidth = 4)\n",
    "plt.legend()"
   ]
  },
  {
   "cell_type": "markdown",
   "metadata": {},
   "source": [
    "## 2(a): Implementation of boosting and training test error plot"
   ]
  },
  {
   "cell_type": "code",
   "execution_count": 10,
   "metadata": {
    "collapsed": false
   },
   "outputs": [],
   "source": [
    "#Import Data as Numpy Matrices\n",
    "X_train = np.genfromtxt ('./boosting/X_train.csv', delimiter=\",\")\n",
    "Y_train = np.genfromtxt ('./boosting/y_train.csv',delimiter=\",\")\n",
    "X_test = np.genfromtxt ('./boosting/X_test.csv', delimiter=\",\")\n",
    "Y_test = np.genfromtxt ('./boosting/y_test.csv',delimiter=\",\")\n",
    "\n",
    "# Add bias to X_train and X_test\n",
    "\n",
    "I=np.ones(len(X_train[:,0]))\n",
    "X_train = np.hstack((np.ones((X_train.shape[0],1)),X_train))\n",
    "X_test = np.hstack((np.ones((X_test.shape[0],1)),X_test))"
   ]
  },
  {
   "cell_type": "code",
   "execution_count": 11,
   "metadata": {
    "collapsed": false
   },
   "outputs": [],
   "source": [
    "# Boosting Implementation\n",
    "\n",
    "# Initialize Weights, epsilon, alpha and freq_samples\n",
    "prob_train = np.array([1.0/len(X_train) for i in xrange(len(X_train))])\n",
    "epsilon_t_all = []\n",
    "alpha_all=[]\n",
    "w_all = []\n",
    "sample_count=np.zeros(1500)\n",
    "random_index_all=[]\n",
    "for i in xrange(1500):\n",
    "    \n",
    "    # Draw a bootstrap Sample\n",
    "    random_index = np.random.choice(range(0,len(X_train)),len(X_train),p=prob_train)\n",
    "    B_t = X_train[random_index,:]\n",
    "    y = Y_train[random_index]\n",
    "\n",
    "    # Learn Classifier\n",
    "    w = ((nplg.inv((np.transpose(B_t)).dot(B_t))).dot(np.transpose(B_t))).dot(y)\n",
    "\n",
    "    # Predict y for the training and test data\n",
    "    y_pred_train = np.sign(w.dot(np.transpose(X_train)))\n",
    "\n",
    "    # obtain miss-classified samples\n",
    "    miss_train = np.array([int(x) for x in (y_pred_train != Y_train)])\n",
    "    \n",
    "    # Calculate train and test error. Train error for obtaining probability distribution \n",
    "    epsilon_t = prob_train.dot(miss_train)\n",
    "    \n",
    "    # If error of train is more than 0.5 then reverse the classification\n",
    "    if epsilon_t > 0.5:\n",
    "        w=-w\n",
    "        y_pred_train =  np.sign(w.dot(np.transpose(X_train)))\n",
    "        miss_train = np.array([int(x) for x in (y_pred_train != Y_train)])\n",
    "        epsilon_t = prob_train.dot(miss_train)\n",
    "    \n",
    "    alpha_t = 0.5*math.log((1-epsilon_t)/epsilon_t)\n",
    "    prob_train = np.multiply((np.exp(-alpha_t*(np.multiply(Y_train,y_pred_train)))),prob_train)\n",
    "    prob_train = (1.0/sum(prob_train))*prob_train\n",
    "    \n",
    "    epsilon_t_all.append(epsilon_t)\n",
    "    alpha_all.append(alpha_t)\n",
    "    w_all.append(w)\n",
    "    random_index_all.append(random_index)\n"
   ]
  },
  {
   "cell_type": "code",
   "execution_count": 12,
   "metadata": {
    "collapsed": false
   },
   "outputs": [
    {
     "data": {
      "text/plain": [
       "<matplotlib.legend.Legend at 0xa68a7f0>"
      ]
     },
     "execution_count": 12,
     "metadata": {},
     "output_type": "execute_result"
    },
    {
     "data": {
      "image/png": "[encoded data removed]",
      "text/plain": [
       "<matplotlib.figure.Figure at 0x9cb5518>"
      ]
     },
     "metadata": {},
     "output_type": "display_data"
    }
   ],
   "source": [
    "# Calculate train and test error:\n",
    "\n",
    "w_all = np.array(w_all)\n",
    "f_train = np.sign(w_all.dot(np.transpose(X_train)))\n",
    "f_test = np.sign(w_all.dot(np.transpose(X_test)))\n",
    "\n",
    "alpha_all_mat_train = np.hstack([np.transpose(np.matrix(alpha_all))]*f_train.shape[1])\n",
    "alpha_all_mat_test = np.hstack([np.transpose(np.matrix(alpha_all))]*f_test.shape[1])\n",
    "\n",
    "f_train_alpha = np.multiply(f_train,alpha_all_mat_train)\n",
    "f_train_alpha_cum = np.cumsum(f_train_alpha,axis=0)\n",
    "y_train_pred_boost = np.sign(f_train_alpha_cum)\n",
    "\n",
    "f_test_alpha = np.multiply(f_test,alpha_all_mat_test)\n",
    "f_test_alpha_cum = np.cumsum(f_test_alpha,axis=0)\n",
    "y_test_pred_boost = np.sign(f_test_alpha_cum)\n",
    "\n",
    "error_train = []\n",
    "error_test = []\n",
    "\n",
    "np.array(Y_train)\n",
    "np.array(Y_test)\n",
    "\n",
    "for pred in y_train_pred_boost:\n",
    "    pred = np.array(pred.tolist()[0])\n",
    "    miss_train = np.array([int(x) for x in (pred != Y_train)])\n",
    "    error = (1.0*sum(miss_train))/len(Y_train)\n",
    "    error_train.append(error)\n",
    "\n",
    "for pred in y_test_pred_boost:\n",
    "    pred = np.array(pred.tolist()[0])\n",
    "    miss_test = np.array([int(x) for x in (pred != Y_test)])\n",
    "    error = (1.0*sum(miss_test))/len(Y_test)\n",
    "    error_test.append(error)\n",
    "\n",
    "\n",
    "plt.figure(figsize=(8,6))\n",
    "plt.plot(range(1500),error_train,color='b',label=\"Training Error\")\n",
    "plt.plot(range(1500),error_test,color = 'r',label=\"Testing Error\")\n",
    "plt.xlabel(\"Iterations\")\n",
    "plt.legend()"
   ]
  },
  {
   "cell_type": "markdown",
   "metadata": {},
   "source": [
    "## 2(b): Upper Bound on the training error"
   ]
  },
  {
   "cell_type": "code",
   "execution_count": 18,
   "metadata": {
    "collapsed": false
   },
   "outputs": [
    {
     "data": {
      "text/plain": [
       "<matplotlib.legend.Legend at 0x16fbb4e0>"
      ]
     },
     "execution_count": 18,
     "metadata": {},
     "output_type": "execute_result"
    },
    {
     "data": {
      "image/png": "[encoded data removed]",
      "text/plain": [
       "<matplotlib.figure.Figure at 0x173cf7f0>"
      ]
     },
     "metadata": {},
     "output_type": "display_data"
    }
   ],
   "source": [
    "epsilon_t_all = np.array(epsilon_t_all)\n",
    "A=np.square((0.5*np.ones(len(epsilon_t_all))-epsilon_t_all))\n",
    "A_cum=np.cumsum(A)\n",
    "upper_bound_t=np.exp(-2*A_cum)\n",
    "\n",
    "# fig,axes=plt.subplots()\n",
    "plt.figure(figsize=(7,5))\n",
    "plt.plot(range(1500),upper_bound_t,label = \"Upper Bound - training error\")\n",
    "plt.xlim([-50,1600])\n",
    "plt.xlabel(\"Iterations\")\n",
    "plt.legend()"
   ]
  },
  {
   "cell_type": "markdown",
   "metadata": {},
   "source": [
    "## 2(c): Histogram of samples"
   ]
  },
  {
   "cell_type": "code",
   "execution_count": 20,
   "metadata": {
    "collapsed": false
   },
   "outputs": [
    {
     "data": {
      "text/plain": [
       "(-20, 1200)"
      ]
     },
     "execution_count": 20,
     "metadata": {},
     "output_type": "execute_result"
    },
    {
     "data": {
      "image/png": "[encoded data removed]",
      "text/plain": [
       "<matplotlib.figure.Figure at 0x14ac35c0>"
      ]
     },
     "metadata": {},
     "output_type": "display_data"
    }
   ],
   "source": [
    "plt.figure(figsize=(7,5))\n",
    "A = np.array(random_index_all).flatten()\n",
    "unique, counts = np.unique(A, return_counts=True)\n",
    "plt.stem(unique,counts)\n",
    "plt.xlabel(\"Samples #\")\n",
    "plt.ylim([-1000,120000])\n",
    "plt.xlim([-20,1200])\n",
    "# print unique\n",
    "# print counts\n"
   ]
  },
  {
   "cell_type": "markdown",
   "metadata": {},
   "source": [
    "## 2(d): Epsilon, Alpha as a function of iterations"
   ]
  },
  {
   "cell_type": "code",
   "execution_count": 15,
   "metadata": {
    "collapsed": false
   },
   "outputs": [
    {
     "data": {
      "text/plain": [
       "<matplotlib.text.Text at 0x16fa7ac8>"
      ]
     },
     "execution_count": 15,
     "metadata": {},
     "output_type": "execute_result"
    },
    {
     "data": {
      "image/png": "[encoded data removed]",
      "text/plain": [
       "<matplotlib.figure.Figure at 0xa8122e8>"
      ]
     },
     "metadata": {},
     "output_type": "display_data"
    }
   ],
   "source": [
    "plt.figure(figsize=(8,6))\n",
    "plt.plot(range(1500),alpha_all)\n",
    "plt.xlim([-50,1600])\n",
    "plt.ylim([-0.1,1])\n",
    "plt.xlabel(\"Iterations\")\n",
    "plt.title(\"Alpha\")"
   ]
  },
  {
   "cell_type": "code",
   "execution_count": 16,
   "metadata": {
    "collapsed": false
   },
   "outputs": [
    {
     "data": {
      "text/plain": [
       "<matplotlib.text.Text at 0x17196208>"
      ]
     },
     "execution_count": 16,
     "metadata": {},
     "output_type": "execute_result"
    },
    {
     "data": {
      "image/png": "[encoded data removed]",
      "text/plain": [
       "<matplotlib.figure.Figure at 0x16f64668>"
      ]
     },
     "metadata": {},
     "output_type": "display_data"
    }
   ],
   "source": [
    "plt.figure(figsize=(8,6))\n",
    "plt.plot(range(1500),epsilon_t_all)\n",
    "plt.xlim([-50,1600])\n",
    "plt.ylim([-0.1,0.6])\n",
    "plt.xlabel(\"Iterations\")\n",
    "plt.title(\"Epsilon\")"
   ]
  }
 ],
 "metadata": {
  "kernelspec": {
   "display_name": "Python [Root]",
   "language": "python",
   "name": "Python [Root]"
  },
  "language_info": {
   "codemirror_mode": {
    "name": "ipython",
    "version": 2
   },
   "file_extension": ".py",
   "mimetype": "text/x-python",
   "name": "python",
   "nbconvert_exporter": "python",
   "pygments_lexer": "ipython2",
   "version": "2.7.12"
  }
 },
 "nbformat": 4,
 "nbformat_minor": 0
}
