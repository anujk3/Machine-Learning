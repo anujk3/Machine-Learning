{
 "cells": [
  {
   "cell_type": "markdown",
   "metadata": {},
   "source": [
    "# Supervised Classification - K-Nearest Neighbors"
   ]
  },
  {
   "cell_type": "markdown",
   "metadata": {},
   "source": [
    "### Objective: Predict if a mail is spam or not "
   ]
  },
  {
   "cell_type": "markdown",
   "metadata": {},
   "source": [
    "In this exercise various classification algorithms are implented to predict if a mail is spam or not. \n",
    "\n",
    "**Data Description:** \n",
    "\n",
    "* Number of Observations: 4601 (1813 Spam = 39.4%)\n",
    "* Number of Attributes: 58 (57 continuous, 1 nominal class label)\n",
    "\n",
    "** Attributes **\n",
    "\n",
    "* 48 continuous real [0,100] attributes of type word_freq_WORD = percentage of words in the e-mail that match WORD, i.e. 100 * (number of times the WORD appears in the e-mail) / total number of words in e-mail. A \"word\" in this case is any string of alphanumeric characters bounded by non-alphanumeric characters or end-of-string. \n",
    "\n",
    "* 6 continuous real [0,100] attributes of type char_freq_CHAR] = percentage of characters in the e-mail that match CHAR, i.e. 100 * (number of CHAR occurences) / total characters in e-mail \n",
    "\n",
    "* 1 continuous real [1,...] attribute of type capital_run_length_average  = average length of uninterrupted sequences of capital letters \n",
    "\n",
    "* 1 continuous integer [1,...] attribute of type capital_run_length_longest = length of longest uninterrupted sequence of capital letters \n",
    "\n",
    "* 1 continuous integer [1,...] attribute of type capital_run_length_total  = sum of length of uninterrupted sequences of capital letters = total number of capital letters in the e-mail \n",
    "\n",
    "* 1 nominal {0,1} class attribute of type spam = denotes whether the e-mail was considered spam (1) or not (0), i.e. unsolicited commercial e-mail. \n",
    "\n",
    "Refer: https://archive.ics.uci.edu/ml/datasets/spambase for detailed data description"
   ]
  },
  {
   "cell_type": "markdown",
   "metadata": {},
   "source": [
    "In this exercise we will build and implement 3 basic classification techniques:\n",
    "   1. Naive Bayes Classifier\n",
    "   2. K-Nearest Neighbors Classifier (K-NN)\n",
    "   3. Logistic Regression\n",
    "\n",
    "In this exercise we implement the KNN classifier\n",
    "\n",
    "** K- Nearest Neighbors Classifier **\n",
    "\n",
    "In this classification technique, the distance between the new point (unlabelled) and all the other labelled points is computed. The K-closest labelled points are obtained and the majority vote of their classes is the class assigned to the unlabelled point. All ties are broken arbitrarily. \n",
    "\n",
    "\n",
    "\n"
   ]
  },
  {
   "cell_type": "markdown",
   "metadata": {},
   "source": [
    "### Import Data and relevant Libraries"
   ]
  },
  {
   "cell_type": "code",
   "execution_count": 6,
   "metadata": {
    "collapsed": true
   },
   "outputs": [],
   "source": [
    "# import libraries\n",
    "import warnings\n",
    "warnings.filterwarnings('ignore')\n",
    "\n",
    "import math \n",
    "import numpy as np\n",
    "import numpy.linalg as nplg\n",
    "import matplotlib.pyplot as plt\n",
    "from scipy.special import expit\n",
    "import itertools\n",
    "\n",
    "%matplotlib inline\n",
    "\n",
    "#Import Data as Numpy Matrices\n",
    "X_train = np.genfromtxt ('X_train.csv', delimiter=\",\")\n",
    "Y_train = np.genfromtxt ('y_train.csv',delimiter=\",\")\n",
    "X_test = np.genfromtxt ('X_test.csv', delimiter=\",\")\n",
    "Y_test = np.genfromtxt ('y_test.csv',delimiter=\",\")"
   ]
  },
  {
   "cell_type": "code",
   "execution_count": 9,
   "metadata": {
    "collapsed": true
   },
   "outputs": [],
   "source": [
    "#Function for computing Bernouli MLE\n",
    "def bern_MLE(X,Y,a):\n",
    "    sum=0.0\n",
    "    count=0\n",
    "    for i in range(len(X)):\n",
    "        if Y[i]==a:\n",
    "            sum+=X[i]\n",
    "            count+=1\n",
    "        else:\n",
    "            continue\n",
    "    return (sum/count)\n",
    "\n",
    "# Function for computing Pareto MLE\n",
    "def pareto_MLE(X,Y,a):\n",
    "    sum=0.0\n",
    "    count=0\n",
    "    for i in range(len(X)):\n",
    "        if Y[i]==a: \n",
    "            sum+=math.log(X[i])\n",
    "            count+=1\n",
    "        else:\n",
    "            continue\n",
    "    return count/sum\n",
    "\n",
    "# Function for calculating Accuracy\n",
    "def Accuracy(Y_test,Y_pred,label=0):\n",
    "    mat= np.zeros((2,2))\n",
    "    for i in range(len(Y_pred)):\n",
    "        if Y_pred[i]==label and Y_test[i]==label:\n",
    "            mat[0][0]+=1\n",
    "        elif Y_pred[i]==label and Y_test[i]==1:\n",
    "            mat[0][1]+=1\n",
    "        elif Y_pred[i]==1 and Y_test[i]==label:\n",
    "            mat[1][0]+=1\n",
    "        else:\n",
    "            mat[1][1]+=1\n",
    "    return mat,round(100*(np.trace(mat))*1.0/len(Y_test),3)\n",
    "\n",
    "def confusion_matrix(cm, classes,\n",
    "                          title,\n",
    "                          cmap=plt.cm.Blues):\n",
    "    plt.imshow(cm, interpolation='nearest', cmap=cmap)\n",
    "    plt.title(title)\n",
    "    tick_marks = np.arange(len(classes))\n",
    "    plt.xticks(tick_marks, classes)\n",
    "    plt.yticks(tick_marks, classes)\n",
    "\n",
    "    thresh = cm.max() / 2.\n",
    "    for i, j in itertools.product(range(cm.shape[0]), range(cm.shape[1])):\n",
    "        plt.text(j, i, cm[i, j],\n",
    "                 horizontalalignment=\"center\",\n",
    "                 color=\"white\" if cm[i, j] > thresh else \"black\")\n",
    "\n",
    "    plt.tight_layout()\n",
    "    plt.ylabel('True label')\n",
    "    plt.xlabel('Predicted label')\n",
    "    plt.show()"
   ]
  },
  {
   "cell_type": "markdown",
   "metadata": {},
   "source": [
    "### K-NN Classification "
   ]
  },
  {
   "cell_type": "code",
   "execution_count": 10,
   "metadata": {},
   "outputs": [
    {
     "data": {
      "image/png": "[encoded data removed]",
      "text/plain": [
       "<matplotlib.figure.Figure at 0x7fd819f779b0>"
      ]
     },
     "metadata": {},
     "output_type": "display_data"
    }
   ],
   "source": [
    "# k-NN Classfier\n",
    "\n",
    "# Compute distance between two vectors\n",
    "\n",
    "def knnClassifier(X,Y,x0,k):\n",
    "    distance=[]\n",
    "    for i in range(len(X)):\n",
    "        distance.append(np.array([Y[i],nplg.norm(X[i,:]-x0,1)]))\n",
    "    Y_pred_dist=np.array(distance)\n",
    "    Y_pred_dist_sorted=Y_pred_dist[Y_pred_dist[:,1].argsort()]\n",
    "    top_k_neighbors=Y_pred_dist_sorted[0:k,:]\n",
    "    class1_count=sum(top_k_neighbors[:,0])\n",
    "    class0_count=len(top_k_neighbors[:,0])-class1_count\n",
    "\n",
    "    if class1_count>class0_count:\n",
    "        return 1\n",
    "    else:\n",
    "        return 0\n",
    "\n",
    "def minmax(X):\n",
    "    return (X-min(X))/max(X)\n",
    "\n",
    "X_train_std=np.apply_along_axis(minmax,0,X_train)\n",
    "X_test_std=np.apply_along_axis(minmax,0,X_test)\n",
    "\n",
    "\n",
    "acc=[]\n",
    "\n",
    "for k in range(1,21):\n",
    "    Y_pred_k=[]\n",
    "    for X in X_test:\n",
    "        Y_pred_k.append(knnClassifier(X_train,Y_train,X,k))\n",
    "    acc.append(Accuracy(Y_test,Y_pred_k)[1])\n",
    "\n",
    "plt.figure(figsize=(10,7))\n",
    "plt.scatter(range(1,21),acc)\n",
    "plt.plot(range(1,21),acc)\n",
    "plt.xlabel(\"Number of Neighbors\")\n",
    "plt.ylabel(\"Accuracy\")\n",
    "plt.title(\"Variation in Accuracy with k (# neighbors)\")\n",
    "plt.show()"
   ]
  }
 ],
 "metadata": {
  "anaconda-cloud": {},
  "kernelspec": {
   "display_name": "Python 3",
   "language": "python",
   "name": "python3"
  },
  "language_info": {
   "codemirror_mode": {
    "name": "ipython",
    "version": 3
   },
   "file_extension": ".py",
   "mimetype": "text/x-python",
   "name": "python",
   "nbconvert_exporter": "python",
   "pygments_lexer": "ipython3",
   "version": "3.6.1"
  }
 },
 "nbformat": 4,
 "nbformat_minor": 1
}
