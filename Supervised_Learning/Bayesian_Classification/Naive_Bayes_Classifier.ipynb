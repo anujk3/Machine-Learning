{
 "cells": [
  {
   "cell_type": "markdown",
   "metadata": {},
   "source": [
    "# Supervised Classification - Naive Bayes Classifier"
   ]
  },
  {
   "cell_type": "markdown",
   "metadata": {},
   "source": [
    "### Objective: Predict if a mail is spam or not "
   ]
  },
  {
   "cell_type": "markdown",
   "metadata": {},
   "source": [
    "In this exercise various classification algorithms are implented to predict if a mail is spam or not. \n",
    "\n",
    "**Data Description:** \n",
    "\n",
    "* Number of Observations: 4601 (1813 Spam = 39.4%)\n",
    "* Number of Attributes: 58 (57 continuous, 1 nominal class label)\n",
    "\n",
    "** Attributes **\n",
    "\n",
    "* 48 continuous real [0,100] attributes of type word_freq_WORD = percentage of words in the e-mail that match WORD, i.e. 100 * (number of times the WORD appears in the e-mail) / total number of words in e-mail. A \"word\" in this case is any string of alphanumeric characters bounded by non-alphanumeric characters or end-of-string. \n",
    "\n",
    "* 6 continuous real [0,100] attributes of type char_freq_CHAR] = percentage of characters in the e-mail that match CHAR, i.e. 100 * (number of CHAR occurences) / total characters in e-mail \n",
    "\n",
    "* 1 continuous real [1,...] attribute of type capital_run_length_average  = average length of uninterrupted sequences of capital letters \n",
    "\n",
    "* 1 continuous integer [1,...] attribute of type capital_run_length_longest = length of longest uninterrupted sequence of capital letters \n",
    "\n",
    "* 1 continuous integer [1,...] attribute of type capital_run_length_total  = sum of length of uninterrupted sequences of capital letters = total number of capital letters in the e-mail \n",
    "\n",
    "* 1 nominal {0,1} class attribute of type spam = denotes whether the e-mail was considered spam (1) or not (0), i.e. unsolicited commercial e-mail. \n",
    "\n",
    "Refer: https://archive.ics.uci.edu/ml/datasets/spambase for detailed data description"
   ]
  },
  {
   "cell_type": "markdown",
   "metadata": {},
   "source": [
    "In this exercise we will build and implement 3 basic classification techniques:\n",
    "   1. Naive Bayes Classifier\n",
    "   2. K-Nearest Neighbors Classifier (K-NN)\n",
    "   3. Logistic Regression\n",
    "\n",
    "**1. Naive Bayes Classifier**\n",
    "\n",
    "Under the iid assumption, the optimum classifier is:\n",
    "\n",
    "\\begin{equation}\n",
    "f(x) = arg\\ \\underset{y \\in Y}{max}\\ P \\left(Y = y\\ |\\ X = x\\right)\n",
    "\\end{equation}\n",
    "\n",
    "Applying Bayes Rule we split the posterior into class prior and class conditional distribution of X\n",
    "\n",
    "\\begin{equation}\n",
    "f(x) = arg\\ \\underset{y \\in Y}{max}\\ P \\left(Y = y\\right) \\times P\\left(X = x\\ |\\ Y = y\\right)\n",
    "\\end{equation}\n",
    "\n",
    "Naive Bayes classifier treats the dimensions of X as conditionally independent given y, hence we get:\n",
    "\n",
    "\\begin{equation}\n",
    "f(x) = arg\\ \\underset{y \\in Y}{max}\\ P \\left(Y = y\\right) \\times \\prod^{d}_{j=1} p_j \\left(x[j]|Y=y \\right)\n",
    "\\end{equation}"
   ]
  },
  {
   "cell_type": "markdown",
   "metadata": {},
   "source": [
    "### Import Data and relevant Libraries"
   ]
  },
  {
   "cell_type": "code",
   "execution_count": 1,
   "metadata": {
    "collapsed": true
   },
   "outputs": [],
   "source": [
    "# import libraries\n",
    "import warnings\n",
    "warnings.filterwarnings('ignore')\n",
    "\n",
    "import math \n",
    "import numpy as np\n",
    "import numpy.linalg as nplg\n",
    "import matplotlib.pyplot as plt\n",
    "from scipy.special import expit\n",
    "import itertools\n",
    "\n",
    "%matplotlib inline\n",
    "\n",
    "#Import Data as Numpy Matrices\n",
    "X_train = np.genfromtxt ('X_train.csv', delimiter=\",\")\n",
    "Y_train = np.genfromtxt ('y_train.csv',delimiter=\",\")\n",
    "X_test = np.genfromtxt ('X_test.csv', delimiter=\",\")\n",
    "Y_test = np.genfromtxt ('y_test.csv',delimiter=\",\")"
   ]
  },
  {
   "cell_type": "code",
   "execution_count": 25,
   "metadata": {
    "collapsed": true
   },
   "outputs": [],
   "source": [
    "#Function for computing Bernouli MLE\n",
    "def bern_MLE(X,Y,a):\n",
    "    sum=0.0\n",
    "    count=0\n",
    "    for i in xrange(len(X)):\n",
    "        if Y[i]==a:\n",
    "            sum+=X[i]\n",
    "            count+=1\n",
    "        else:\n",
    "            continue\n",
    "    return (sum/count)\n",
    "\n",
    "# Function for computing Pareto MLE\n",
    "def pareto_MLE(X,Y,a):\n",
    "    sum=0.0\n",
    "    count=0\n",
    "    for i in xrange(len(X)):\n",
    "        if Y[i]==a: \n",
    "            sum+=math.log(X[i])\n",
    "            count+=1\n",
    "        else:\n",
    "            continue\n",
    "    return count/sum\n",
    "\n",
    "# Function for calculating Accuracy\n",
    "def Accuracy(Y_test,Y_pred,label=0):\n",
    "    mat= np.zeros((2,2))\n",
    "    for i in xrange(len(y_pred)):\n",
    "        if Y_pred[i]==label and Y_test[i]==label:\n",
    "            mat[0][0]+=1\n",
    "        elif Y_pred[i]==label and Y_test[i]==1:\n",
    "            mat[0][1]+=1\n",
    "        elif Y_pred[i]==1 and Y_test[i]==label:\n",
    "            mat[1][0]+=1\n",
    "        else:\n",
    "            mat[1][1]+=1\n",
    "    return mat,round(100*(np.trace(mat))*1.0/len(Y_test),3)\n",
    "\n",
    "def confusion_matrix(cm, classes,\n",
    "                          title,\n",
    "                          cmap=plt.cm.Blues):\n",
    "    plt.imshow(cm, interpolation='nearest', cmap=cmap)\n",
    "    plt.title(title)\n",
    "    tick_marks = np.arange(len(classes))\n",
    "    plt.xticks(tick_marks, classes)\n",
    "    plt.yticks(tick_marks, classes)\n",
    "\n",
    "    thresh = cm.max() / 2.\n",
    "    for i, j in itertools.product(range(cm.shape[0]), range(cm.shape[1])):\n",
    "        plt.text(j, i, cm[i, j],\n",
    "                 horizontalalignment=\"center\",\n",
    "                 color=\"white\" if cm[i, j] > thresh else \"black\")\n",
    "\n",
    "    plt.tight_layout()\n",
    "    plt.ylabel('True label')\n",
    "    plt.xlabel('Predicted label')\n",
    "    plt.show()"
   ]
  },
  {
   "cell_type": "markdown",
   "metadata": {},
   "source": [
    "## Implementing Naive Bayes on the Spam base data"
   ]
  },
  {
   "cell_type": "code",
   "execution_count": 26,
   "metadata": {},
   "outputs": [
    {
     "data": {
      "image/png": "[encoded data removed]",
      "text/plain": [
       "<matplotlib.figure.Figure at 0xa8b5940>"
      ]
     },
     "metadata": {},
     "output_type": "display_data"
    }
   ],
   "source": [
    "# Obtain feature MLE vectors by applying respective funtions for each distribution given class\n",
    "MLE_Ytrain_bern = np.mean(Y_train)\n",
    "\n",
    "MLE_Xtrain_bern0 = np.apply_along_axis(bern_MLE,0,X_train[:,0:54],Y_train,0)\n",
    "MLE_Xtrain_bern1 = np.apply_along_axis(bern_MLE,0,X_train[:,0:54],Y_train,1)\n",
    "    \n",
    "MLE_Xtrain_par0 = np.apply_along_axis(pareto_MLE,0,X_train[:,54:],Y_train,0)\n",
    "MLE_Xtrain_par1 = np.apply_along_axis(pareto_MLE,0,X_train[:,54:],Y_train,1)\n",
    "\n",
    "# Concatenate Bernouli and Pareto MLEs into one vector for each class\n",
    "MLE_Xtrain0=np.concatenate((MLE_Xtrain_bern0,MLE_Xtrain_par0))\n",
    "MLE_Xtrain1=np.concatenate((MLE_Xtrain_bern1,MLE_Xtrain_par1))\n",
    "\n",
    "    \n",
    "# Calculate values for posterior given y_test=0\n",
    "\n",
    "post_y0=[]\n",
    "for i in xrange(len(X_test)):\n",
    "    prod=(1-MLE_Ytrain_bern)\n",
    "    for j in xrange(len(X_test[i,:])):\n",
    "        if j<54:\n",
    "            prod*=((MLE_Xtrain0[j])**X_test[i,j])*((1-MLE_Xtrain0[j])**(1-X_test[i,j]))\n",
    "        else:\n",
    "            prod*=(MLE_Xtrain0[j])*((X_test[i,j])**(-(1+((MLE_Xtrain0[j])))))\n",
    "    post_y0.append(prod)\n",
    "\n",
    "# Calculate values for posterior given y_test=1  \n",
    "post_y1=[]\n",
    "for i in xrange(len(X_test)):\n",
    "    prod=MLE_Ytrain_bern\n",
    "    for j in xrange(len(X_test[i,:])):\n",
    "        if j<54:\n",
    "            prod*=((MLE_Xtrain1[j])**X_test[i,j])*((1-MLE_Xtrain1[j])**(1-X_test[i,j]))\n",
    "        else:\n",
    "            prod*=(MLE_Xtrain1[j])*((X_test[i,j])**(-(1+((MLE_Xtrain1[j])))))\n",
    "    post_y1.append(prod)\n",
    "\n",
    "y_pred=[]\n",
    "\n",
    "for i in xrange(len(post_y0)):\n",
    "    if post_y0[i]>post_y1[i]:\n",
    "        y_pred.append(0)\n",
    "    else:\n",
    "        y_pred.append(1)\n",
    "\n",
    "confusion_matrix(Accuracy(Y_test,y_pred)[0],classes=['0','1'],title='Confusion Matrix with Accuracy = ' + str(Accuracy(Y_test,y_pred)[1])+'%')"
   ]
  },
  {
   "cell_type": "markdown",
   "metadata": {},
   "source": [
    "### (b) In one figure, show a stem plot (stem() in Matlab) of the 54 Bernoulli parameters for each class. Use the file “spambase.names” to make an observation about dimensions 16 and 52."
   ]
  },
  {
   "cell_type": "code",
   "execution_count": 27,
   "metadata": {},
   "outputs": [
    {
     "data": {
      "image/png": "[encoded data removed]",
      "text/plain": [
       "<matplotlib.figure.Figure at 0xa03f080>"
      ]
     },
     "metadata": {},
     "output_type": "display_data"
    }
   ],
   "source": [
    "#Stem Plot\n",
    "import pylab as plb\n",
    "\n",
    "x = [i for i in xrange(1,55)]\n",
    "# f = plt.subplots(1, 2, sharey=True,figsize=(15,5))\n",
    "\n",
    "\n",
    "plt.figure(figsize=(10,7))\n",
    "markerline1, stemlines1, baseline1 = plt.stem(x,MLE_Xtrain_bern0, markerfmt='o', label='y=0')\n",
    "plt.setp(markerline1,'markerfacecolor','b')\n",
    "plt.setp(stemlines1, 'color','b')\n",
    "plt.setp(stemlines1, 'linestyle', 'dotted')\n",
    "\n",
    "markerline2, stemlines2, baseline2 = plt.stem(x,MLE_Xtrain_bern1, markerfmt='o', label='y=1',color='r')\n",
    "plt.setp(markerline2,'markerfacecolor','r')\n",
    "plt.setp(stemlines2, 'color', 'r')\n",
    "plt.setp(stemlines2, 'linestyle', 'dotted')\n",
    "# plt.set_title(\"Comparison of MLEs of features for class label y=1\")\n",
    "plt.title(\"Comparison of MLEs of features for class label y=0 and y=1\")\n",
    "\n",
    "plt.show()"
   ]
  },
  {
   "cell_type": "markdown",
   "metadata": {},
   "source": [
    "The 16th dimension is the frequency of the word 'free' and 52nd dimension is the frequency of exclamation mark '!'. The following are the inferences that can be made:\n",
    "\n",
    "* For class label y=1, both dimensions (16th and 52nd) have much higher MLE values when compared class y=0. This is expected as most spam mails (which are promotions or advertisements) are likely to contain 'free' and '!'. **Given that the mail is spam (y=1) the probability of occurence of 'free' and '!' is high when compared to non=spam**\n",
    "\n",
    "* The ratio of the MLE's of the two dimensions is closer to 1 (1.537) for spam mails when compared to non-spam (2.95). This shows likely co-occurance of these two expressions in spam mails. Creation of an interation variable between the two dimensions could be a good predictor of spam mails."
   ]
  }
 ],
 "metadata": {
  "anaconda-cloud": {},
  "kernelspec": {
   "display_name": "Python 3",
   "language": "python",
   "name": "python3"
  },
  "language_info": {
   "codemirror_mode": {
    "name": "ipython",
    "version": 3
   },
   "file_extension": ".py",
   "mimetype": "text/x-python",
   "name": "python",
   "nbconvert_exporter": "python",
   "pygments_lexer": "ipython3",
   "version": "3.6.1"
  }
 },
 "nbformat": 4,
 "nbformat_minor": 1
}
