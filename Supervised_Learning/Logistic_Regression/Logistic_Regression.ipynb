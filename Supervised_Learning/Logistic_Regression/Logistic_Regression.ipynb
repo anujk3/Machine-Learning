{
 "cells": [
  {
   "cell_type": "markdown",
   "metadata": {},
   "source": [
    "# Supervised Classification - Logistic Regression"
   ]
  },
  {
   "cell_type": "markdown",
   "metadata": {},
   "source": [
    "### Objective: Predict if a mail is spam or not "
   ]
  },
  {
   "cell_type": "markdown",
   "metadata": {},
   "source": [
    "In this exercise various classification algorithms are implented to predict if a mail is spam or not. \n",
    "\n",
    "**Data Description:** \n",
    "\n",
    "* Number of Observations: 4601 (1813 Spam = 39.4%)\n",
    "* Number of Attributes: 58 (57 continuous, 1 nominal class label)\n",
    "\n",
    "** Attributes **\n",
    "\n",
    "* 48 continuous real [0,100] attributes of type word_freq_WORD = percentage of words in the e-mail that match WORD, i.e. 100 * (number of times the WORD appears in the e-mail) / total number of words in e-mail. A \"word\" in this case is any string of alphanumeric characters bounded by non-alphanumeric characters or end-of-string. \n",
    "\n",
    "* 6 continuous real [0,100] attributes of type char_freq_CHAR] = percentage of characters in the e-mail that match CHAR, i.e. 100 * (number of CHAR occurences) / total characters in e-mail \n",
    "\n",
    "* 1 continuous real [1,...] attribute of type capital_run_length_average  = average length of uninterrupted sequences of capital letters \n",
    "\n",
    "* 1 continuous integer [1,...] attribute of type capital_run_length_longest = length of longest uninterrupted sequence of capital letters \n",
    "\n",
    "* 1 continuous integer [1,...] attribute of type capital_run_length_total  = sum of length of uninterrupted sequences of capital letters = total number of capital letters in the e-mail \n",
    "\n",
    "* 1 nominal {0,1} class attribute of type spam = denotes whether the e-mail was considered spam (1) or not (0), i.e. unsolicited commercial e-mail. \n",
    "\n",
    "Refer: https://archive.ics.uci.edu/ml/datasets/spambase for detailed data description"
   ]
  },
  {
   "cell_type": "markdown",
   "metadata": {},
   "source": [
    "In this exercise we will build and implement 3 basic classification techniques:\n",
    "   1. Naive Bayes Classifier\n",
    "   2. K-Nearest Neighbors Classifier (K-NN)\n",
    "   3. Logistic Regression\n",
    "\n",
    "** Logistic Regression **\n",
    "\n",
    "Logistic regression is a discriminative classifier where Log odds is modelled as a linear function i.e.\n",
    "\n",
    "\\begin{equation}\n",
    "ln \\left( \\frac{p\\left( y = +1|x \\right)}{p \\left(y=-1|x \\right)} \\right) = x^{T}w + w_0\n",
    "\\end{equation}\n",
    "\n",
    "Hence we get,\n",
    "\n",
    "\\begin{equation}\n",
    "p \\left( y = +1|x \\right) = \\frac{e^{x^Tw + w_0}}{1 + e^{x^Tw + w_0}} = \\sigma (x_i^T w)\n",
    "\\end{equation}\n",
    "\n",
    "The log likelihood function i.e.\n",
    "\n",
    "\\begin{equation}\n",
    "\\sum_{i=1}^{n} ln \\left(\\sigma_{i} \\left(y_i . w \\right) \\right)\n",
    "\\end{equation}\n",
    "\n",
    "is maximized over w using two different optimization algorithms:\n",
    "\n",
    "1. Steepest Ascent\n",
    "2. Newton's Method\n",
    "\n",
    "\\begin{equation}\n",
    "w_{ML} = arg\\ \\underset{w}{max} \\sum_{i=1}^{n} ln \\left(\\sigma_{i} \\left(y_i . w \\right) \\right)\n",
    "\\end{equation}\n",
    "\n",
    "\n",
    "\n",
    "\n"
   ]
  },
  {
   "cell_type": "markdown",
   "metadata": {},
   "source": [
    "### Import Data and relevant Libraries"
   ]
  },
  {
   "cell_type": "code",
   "execution_count": 1,
   "metadata": {
    "collapsed": true
   },
   "outputs": [],
   "source": [
    "# import libraries\n",
    "import warnings\n",
    "warnings.filterwarnings('ignore')\n",
    "\n",
    "import math \n",
    "import numpy as np\n",
    "import numpy.linalg as nplg\n",
    "import matplotlib.pyplot as plt\n",
    "from scipy.special import expit\n",
    "import itertools\n",
    "\n",
    "%matplotlib inline\n",
    "\n",
    "#Import Data as Numpy Matrices\n",
    "X_train = np.genfromtxt ('X_train.csv', delimiter=\",\")\n",
    "Y_train = np.genfromtxt ('y_train.csv',delimiter=\",\")\n",
    "X_test = np.genfromtxt ('X_test.csv', delimiter=\",\")\n",
    "Y_test = np.genfromtxt ('y_test.csv',delimiter=\",\")"
   ]
  },
  {
   "cell_type": "code",
   "execution_count": 25,
   "metadata": {
    "collapsed": true
   },
   "outputs": [],
   "source": [
    "#Function for computing Bernouli MLE\n",
    "def bern_MLE(X,Y,a):\n",
    "    sum=0.0\n",
    "    count=0\n",
    "    for i in xrange(len(X)):\n",
    "        if Y[i]==a:\n",
    "            sum+=X[i]\n",
    "            count+=1\n",
    "        else:\n",
    "            continue\n",
    "    return (sum/count)\n",
    "\n",
    "# Function for computing Pareto MLE\n",
    "def pareto_MLE(X,Y,a):\n",
    "    sum=0.0\n",
    "    count=0\n",
    "    for i in xrange(len(X)):\n",
    "        if Y[i]==a: \n",
    "            sum+=math.log(X[i])\n",
    "            count+=1\n",
    "        else:\n",
    "            continue\n",
    "    return count/sum\n",
    "\n",
    "# Function for calculating Accuracy\n",
    "def Accuracy(Y_test,Y_pred,label=0):\n",
    "    mat= np.zeros((2,2))\n",
    "    for i in xrange(len(y_pred)):\n",
    "        if Y_pred[i]==label and Y_test[i]==label:\n",
    "            mat[0][0]+=1\n",
    "        elif Y_pred[i]==label and Y_test[i]==1:\n",
    "            mat[0][1]+=1\n",
    "        elif Y_pred[i]==1 and Y_test[i]==label:\n",
    "            mat[1][0]+=1\n",
    "        else:\n",
    "            mat[1][1]+=1\n",
    "    return mat,round(100*(np.trace(mat))*1.0/len(Y_test),3)\n",
    "\n",
    "def confusion_matrix(cm, classes,\n",
    "                          title,\n",
    "                          cmap=plt.cm.Blues):\n",
    "    plt.imshow(cm, interpolation='nearest', cmap=cmap)\n",
    "    plt.title(title)\n",
    "    tick_marks = np.arange(len(classes))\n",
    "    plt.xticks(tick_marks, classes)\n",
    "    plt.yticks(tick_marks, classes)\n",
    "\n",
    "    thresh = cm.max() / 2.\n",
    "    for i, j in itertools.product(range(cm.shape[0]), range(cm.shape[1])):\n",
    "        plt.text(j, i, cm[i, j],\n",
    "                 horizontalalignment=\"center\",\n",
    "                 color=\"white\" if cm[i, j] > thresh else \"black\")\n",
    "\n",
    "    plt.tight_layout()\n",
    "    plt.ylabel('True label')\n",
    "    plt.xlabel('Predicted label')\n",
    "    plt.show()"
   ]
  },
  {
   "cell_type": "markdown",
   "metadata": {},
   "source": [
    "### Logistic Regression and Steepest ascent for optimizing Likelihood function"
   ]
  },
  {
   "cell_type": "code",
   "execution_count": 29,
   "metadata": {},
   "outputs": [
    {
     "data": {
      "text/plain": [
       "<matplotlib.text.Text at 0xa3e7cc0>"
      ]
     },
     "execution_count": 29,
     "metadata": {},
     "output_type": "execute_result"
    },
    {
     "data": {
      "image/png": "[encoded data removed]",
      "text/plain": [
       "<matplotlib.figure.Figure at 0xb95b9e8>"
      ]
     },
     "metadata": {},
     "output_type": "display_data"
    }
   ],
   "source": [
    "def minmax(X):\n",
    "    return (X-min(X))/max(X)\n",
    "\n",
    "#Add ones to the front of training dataset\n",
    "X_train0 = np.concatenate((np.ones((len(X_train),1)),X_train), 1)\n",
    "X_test0 = np.concatenate((np.ones((len(X_test),1)),X_test), 1)\n",
    "\n",
    "#Change all 0s to -1 in Y_train and Y_test\n",
    "for i in xrange(len(Y_train)):\n",
    "    if Y_train[i]==0:\n",
    "        Y_train[i]=-1\n",
    "    else:\n",
    "        continue\n",
    "\n",
    "        \n",
    "for i in xrange(len(Y_test)):\n",
    "    if Y_test[i]==0:\n",
    "        Y_test[i]=-1\n",
    "    else:\n",
    "        continue\n",
    "\n",
    "def sigmoid(x):\n",
    "    return expit(x)\n",
    "\n",
    "def objective(X,Y,w):\n",
    "    return np.sum(np.log(sigmoid(Y*(np.dot(X,w)))))\n",
    "\n",
    "def gradient_log_likelihood(X,Y,w):\n",
    "    A=np.array(np.transpose(np.matrix((np.ones(len(X))-sigmoid(np.multiply(Y,np.dot(X,w))))*Y)))\n",
    "    X=np.array(X)\n",
    "    return np.sum(A*X,axis=0)\n",
    "    \n",
    "def steepest_ascent(X,Y,w0,iters):\n",
    "    w_t=w0\n",
    "    obj=[]\n",
    "    obj.append(objective(X,Y,w0))\n",
    "    for i in xrange(1,iters+1):\n",
    "        eta=1/(100000*math.sqrt(1+i))\n",
    "        w_t=w_t+eta*gradient_log_likelihood(X,Y,w_t)\n",
    "        obj.append(objective(X,Y,w_t))\n",
    "    return obj\n",
    "    \n",
    "\n",
    "w_init=np.array([0*i for i in xrange(len(X_train0[0,:]))])\n",
    "plt.figure(figsize=(8,5))\n",
    "plt.plot(xrange(0,10001),steepest_ascent(X_train0,Y_train,w_init,10000))\n",
    "plt.xlabel(\"Iteration #\")\n",
    "plt.ylabel(\"Objective Function\")\n",
    "plt.title(\"Steepest Ascent\")\n",
    "    \n",
    "    \n",
    "    "
   ]
  },
  {
   "cell_type": "markdown",
   "metadata": {},
   "source": [
    "### Logistic Regression with Newton's Method for optimizing the Likelihood function "
   ]
  },
  {
   "cell_type": "code",
   "execution_count": 32,
   "metadata": {},
   "outputs": [
    {
     "name": "stdout",
     "output_type": "stream",
     "text": [
      "91.398\n"
     ]
    },
    {
     "data": {
      "text/plain": [
       "<matplotlib.text.Text at 0xbb63ef0>"
      ]
     },
     "execution_count": 32,
     "metadata": {},
     "output_type": "execute_result"
    },
    {
     "data": {
      "image/png": "[encoded data removed]",
      "text/plain": [
       "<matplotlib.figure.Figure at 0xccbe8d0>"
      ]
     },
     "metadata": {},
     "output_type": "display_data"
    }
   ],
   "source": [
    "def Hessian(X,w):\n",
    "    sum=0\n",
    "    for i in xrange(len(X)):\n",
    "        sigma=sigmoid(np.dot(X[i,:],w))\n",
    "        sum+=sigma*(1-sigma)*np.outer(np.transpose(X[i,:]),(X[i,:]))\n",
    "    return -sum\n",
    "\n",
    "\n",
    "def Newton_Method(X,Y,w,iters):\n",
    "    w_t=w\n",
    "    obj_NM=[objective(X,Y,w_t)]\n",
    "    for iter in xrange(1,iters+1):\n",
    "        eta=1/(math.sqrt(iter+1))\n",
    "        w_t=w_t-eta*np.dot((nplg.inv(Hessian(X,w_t))),gradient_log_likelihood(X,Y,w_t))\n",
    "        obj_NM.append(objective(X,Y,w_t))\n",
    "        \n",
    "    # Returning both the objective function vector and the final weights\n",
    "    return obj_NM , w_t\n",
    "\n",
    "w_init=np.array([0*i for i in xrange(len(X_train0[0,:]))])\n",
    "A=Newton_Method(X_train0,Y_train,w_init,100)\n",
    "\n",
    "#Computing accuracy from the model output\n",
    "\n",
    "Obj_NM=A[0]\n",
    "w_t=A[1]\n",
    "Y_pred_NM=sigmoid(np.dot(X_test0,w_t))\n",
    "\n",
    "for i in xrange(len(Y_pred_NM)):\n",
    "    if Y_pred_NM[i]>0.5:\n",
    "        Y_pred_NM[i]=1\n",
    "    else:\n",
    "        Y_pred_NM[i]=-1\n",
    "\n",
    "print Accuracy(Y_test,Y_pred_NM,-1)[1]\n",
    "\n",
    "plt.figure(figsize=(8,5))\n",
    "plt.xlim(-3,101)\n",
    "plt.plot(xrange(0,101),Obj_NM)\n",
    "plt.xlabel(\"Iteration #\")\n",
    "plt.ylabel(\"Objective Function\")\n",
    "plt.title(\"Newton's Method\")\n",
    "\n",
    "\n"
   ]
  },
  {
   "cell_type": "markdown",
   "metadata": {},
   "source": [
    "### Accuracy = 91.4 %"
   ]
  }
 ],
 "metadata": {
  "anaconda-cloud": {},
  "kernelspec": {
   "display_name": "Python 3",
   "language": "python",
   "name": "python3"
  },
  "language_info": {
   "codemirror_mode": {
    "name": "ipython",
    "version": 3
   },
   "file_extension": ".py",
   "mimetype": "text/x-python",
   "name": "python",
   "nbconvert_exporter": "python",
   "pygments_lexer": "ipython3",
   "version": "3.6.1"
  }
 },
 "nbformat": 4,
 "nbformat_minor": 1
}
