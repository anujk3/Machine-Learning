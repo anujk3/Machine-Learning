{
 "cells": [
  {
   "cell_type": "markdown",
   "metadata": {},
   "source": [
    "# Non-Negative Matrix Factorization\n",
    "\n",
    "This is a matrix factorization technique where the matrix $X$ has non-negative values. The learned factorization $W$ and $H$ also have nonnegative values. We shall model text data from New York Times. $X$ will be our word frequency matrix i.e. $X_{ij}$ consists the number of times word i appears in document j. \n",
    "\n",
    "Our optimization problem is to minimixe the divergence penalty defined as follows:\n",
    "\n",
    "\\begin{equation}\n",
    "\\text{min } \\sum_{ij} \\left [X_{ij} ln \\left(\\frac{1}{(WH)_{ij}}\\right) + (WH)_{ij} \\right] \\text{subject to } W_{ik} \\ge 0, W_{kj} \\ge 0\n",
    "\\end{equation}\n",
    "\n",
    "**Randomly initialize H and W with non-negative values and iteratively update**\n",
    "\n",
    "\\begin{equation}\n",
    "H_{kj} \\leftarrow H_{kj} \\frac{\\sum_{i} W_{ik}X_{ij} / (WH)_{ij}}{\\sum_{i} W_{ik}}\n",
    "\\end{equation}\n",
    "\n",
    "\\begin{equation}\n",
    "W_{ik} \\leftarrow W_{ik} \\frac{\\sum_{j} H_{kj}X_{ij} / (WH)_{ij}}{\\sum_{j} H_{kj}}\n",
    "\\end{equation}\n",
    "\n"
   ]
  },
  {
   "cell_type": "code",
   "execution_count": 1,
   "metadata": {
    "collapsed": true
   },
   "outputs": [],
   "source": [
    "import pandas as pd\n",
    "import numpy as np\n",
    "import matplotlib.pyplot as plt\n",
    "import numpy.linalg as nplg\n",
    "import scipy.sparse.linalg\n",
    "%matplotlib inline"
   ]
  },
  {
   "cell_type": "code",
   "execution_count": 6,
   "metadata": {
    "collapsed": true
   },
   "outputs": [],
   "source": [
    "# Parse File\n",
    "\n",
    "file = open(\"nyt_data.txt\",\"r\") \n",
    "X = np.zeros((3012,8447))\n",
    "c1 =0\n",
    "\n",
    "for line in file.readlines():\n",
    "    curr_line = line.split(\",\")\n",
    "    \n",
    "    for ele in curr_line:\n",
    "        X[int(ele.split(\":\")[0])-1][c1] = ele.split(\":\")[1]\n",
    "    c1 += 1\n"
   ]
  },
  {
   "cell_type": "code",
   "execution_count": 7,
   "metadata": {
    "collapsed": true
   },
   "outputs": [],
   "source": [
    "# Function to calculate objective function\n",
    "\n",
    "def objective():\n",
    "    err = (10**(-16))\n",
    "    WH = W.dot(H)\n",
    "    I = np.ones(WH.shape)\n",
    "    obj = X*np.log(I/(WH + err)) + WH\n",
    "    return np.sum(obj)"
   ]
  },
  {
   "cell_type": "code",
   "execution_count": 8,
   "metadata": {
    "collapsed": true
   },
   "outputs": [],
   "source": [
    "#Initialize W and H\n",
    "W = []\n",
    "H= []\n",
    "\n",
    "for i in range(X.shape[0]):\n",
    "    W.append(np.random.uniform(1,2,25))\n",
    "W = np.array(W)\n",
    "\n",
    "for i in range(X.shape[1]):\n",
    "    H.append(np.random.uniform(1,2,25))\n",
    "H = (np.array(H)).T\n",
    "\n",
    "obj_all=[]\n",
    "err = (10**(-16))\n",
    "for iter in range(100):\n",
    "    H = H * ((W.T/np.sum(W.T,axis =1)[:,np.newaxis]).dot(X/(W.dot(H)+err)))\n",
    "    W = W *((X/(W.dot(H)+err)).dot(H.T/np.sum(H.T,axis =0)[np.newaxis,:]))\n",
    "    obj_all.append(objective())    "
   ]
  },
  {
   "cell_type": "markdown",
   "metadata": {},
   "source": [
    "## Solution 2(a)"
   ]
  },
  {
   "cell_type": "code",
   "execution_count": 9,
   "metadata": {},
   "outputs": [
    {
     "data": {
      "image/png": "[encoded data removed]",
      "text/plain": [
       "<matplotlib.figure.Figure at 0xa3b0b38>"
      ]
     },
     "metadata": {},
     "output_type": "display_data"
    }
   ],
   "source": [
    "_=plt.figure(figsize = (10,8))\n",
    "_=plt.title(\"Variation of Divergence Penalty with itertions\", fontsize = 18)\n",
    "_=plt.xlabel(\"iter\",fontsize = 14)\n",
    "_=plt.ylabel(\"Divergence Penalty\",fontsize = 14)\n",
    "_=plt.plot(range(100),obj_all)"
   ]
  },
  {
   "cell_type": "markdown",
   "metadata": {},
   "source": [
    "## Solution 2 (b)"
   ]
  },
  {
   "cell_type": "code",
   "execution_count": 10,
   "metadata": {
    "collapsed": true
   },
   "outputs": [],
   "source": [
    "W_norm = (W/np.sum(W,axis =0)[np.newaxis,:])\n",
    "\n",
    "# Get Top Weights\n",
    "weights_ind = np.around(np.sort(W_norm,axis =0)[-10:,:].T,decimals = 6)\n",
    "\n",
    "# Get Top weighted Words' index\n",
    "words_ind = np.argsort(W_norm,axis = 0)[-10:,:].T\n",
    "\n",
    "# Read vocab\n",
    "vocab = pd.read_table(\"nyt_vocab.dat\",delimiter = \",\",header = None)\n"
   ]
  },
  {
   "cell_type": "code",
   "execution_count": 20,
   "metadata": {},
   "outputs": [
    {
     "data": {
      "text/plain": [
       "0    0.037702\n",
       "1    0.022457\n",
       "2    0.018248\n",
       "3    0.014681\n",
       "4    0.014605\n",
       "5    0.012333\n",
       "6    0.012312\n",
       "7    0.012165\n",
       "8    0.010989\n",
       "9    0.010761\n",
       "dtype: float64"
      ]
     },
     "execution_count": 20,
     "metadata": {},
     "output_type": "execute_result"
    }
   ],
   "source": [
    "pd.Series(weights_ind[0][::-1])"
   ]
  },
  {
   "cell_type": "code",
   "execution_count": 21,
   "metadata": {
    "collapsed": true
   },
   "outputs": [],
   "source": [
    "Results_df = pd.DataFrame()\n",
    "for i in range(25):\n",
    "    Results_df = pd.concat([Results_df, vocab.iloc[words_ind[i][::-1],:].reset_index(),pd.Series(weights_ind[i][::-1])], axis = 1)"
   ]
  },
  {
   "cell_type": "code",
   "execution_count": 23,
   "metadata": {
    "collapsed": true
   },
   "outputs": [],
   "source": [
    "Results_df.to_csv(\"topics.csv\")"
   ]
  },
  {
   "cell_type": "code",
   "execution_count": 442,
   "metadata": {},
   "outputs": [
    {
     "data": {
      "text/html": [
       "<div>\n",
       "<table border=\"1\" class=\"dataframe\">\n",
       "  <thead>\n",
       "    <tr style=\"text-align: right;\">\n",
       "      <th></th>\n",
       "      <th>0</th>\n",
       "      <th>1</th>\n",
       "      <th>2</th>\n",
       "      <th>3</th>\n",
       "      <th>4</th>\n",
       "    </tr>\n",
       "  </thead>\n",
       "  <tbody>\n",
       "    <tr>\n",
       "      <th>0</th>\n",
       "      <td>win-0.023384,second-0.020805,game-0....</td>\n",
       "      <td>art-0.016707,artist-0.011283,design-...</td>\n",
       "      <td>leader-0.016,official-0.012855,gover...</td>\n",
       "      <td>school-0.021623,program-0.018102,stu...</td>\n",
       "      <td>city-0.021365,building-0.017504,resi...</td>\n",
       "    </tr>\n",
       "    <tr>\n",
       "      <th>1</th>\n",
       "      <td>campaign-0.018338,political-0.017479...</td>\n",
       "      <td>computer-0.014007,system-0.01165,inf...</td>\n",
       "      <td>pay-0.019962,tax-0.01557,cut-0.01497...</td>\n",
       "      <td>tell-0.009134,ask-0.008597,car-0.008...</td>\n",
       "      <td>father-0.043486,mother-0.036408,son-...</td>\n",
       "    </tr>\n",
       "    <tr>\n",
       "      <th>2</th>\n",
       "      <td>life-0.013482,book-0.0098,man-0.0090...</td>\n",
       "      <td>team-0.021815,player-0.019134,game-0...</td>\n",
       "      <td>police-0.034612,man-0.02282,officer-...</td>\n",
       "      <td>television-0.027926,write-0.01418,ne...</td>\n",
       "      <td>charge-0.017072,case-0.015408,lawyer...</td>\n",
       "    </tr>\n",
       "    <tr>\n",
       "      <th>3</th>\n",
       "      <td>company-0.028379,stock-0.018477,shar...</td>\n",
       "      <td>music-0.018394,play-0.016357,perform...</td>\n",
       "      <td>official-0.011091,kill-0.010233,mile...</td>\n",
       "      <td>company-0.034818,executive-0.019276,...</td>\n",
       "      <td>health-0.021547,drug-0.016278,doctor...</td>\n",
       "    </tr>\n",
       "    <tr>\n",
       "      <th>4</th>\n",
       "      <td>percent-0.032488,rate-0.017395,rise-...</td>\n",
       "      <td>law-0.024319,rule-0.019437,court-0.0...</td>\n",
       "      <td>american-0.034215,states-0.027311,co...</td>\n",
       "      <td>food-0.020835,serve-0.011243,restaur...</td>\n",
       "      <td>water-0.013519,foot-0.008597,wear-0....</td>\n",
       "    </tr>\n",
       "  </tbody>\n",
       "</table>\n",
       "</div>"
      ],
      "text/plain": [
       "                                         0  \\\n",
       "0  win-0.023384,second-0.020805,game-0....   \n",
       "1  campaign-0.018338,political-0.017479...   \n",
       "2  life-0.013482,book-0.0098,man-0.0090...   \n",
       "3  company-0.028379,stock-0.018477,shar...   \n",
       "4  percent-0.032488,rate-0.017395,rise-...   \n",
       "\n",
       "                                         1  \\\n",
       "0  art-0.016707,artist-0.011283,design-...   \n",
       "1  computer-0.014007,system-0.01165,inf...   \n",
       "2  team-0.021815,player-0.019134,game-0...   \n",
       "3  music-0.018394,play-0.016357,perform...   \n",
       "4  law-0.024319,rule-0.019437,court-0.0...   \n",
       "\n",
       "                                         2  \\\n",
       "0  leader-0.016,official-0.012855,gover...   \n",
       "1  pay-0.019962,tax-0.01557,cut-0.01497...   \n",
       "2  police-0.034612,man-0.02282,officer-...   \n",
       "3  official-0.011091,kill-0.010233,mile...   \n",
       "4  american-0.034215,states-0.027311,co...   \n",
       "\n",
       "                                         3  \\\n",
       "0  school-0.021623,program-0.018102,stu...   \n",
       "1  tell-0.009134,ask-0.008597,car-0.008...   \n",
       "2  television-0.027926,write-0.01418,ne...   \n",
       "3  company-0.034818,executive-0.019276,...   \n",
       "4  food-0.020835,serve-0.011243,restaur...   \n",
       "\n",
       "                                         4  \n",
       "0  city-0.021365,building-0.017504,resi...  \n",
       "1  father-0.043486,mother-0.036408,son-...  \n",
       "2  charge-0.017072,case-0.015408,lawyer...  \n",
       "3  health-0.021547,drug-0.016278,doctor...  \n",
       "4  water-0.013519,foot-0.008597,wear-0....  "
      ]
     },
     "execution_count": 442,
     "metadata": {},
     "output_type": "execute_result"
    }
   ],
   "source": [
    "# Create 5 x 5 matrix of topics\n",
    "\n",
    "mat_topics = [] \n",
    "temp = []\n",
    "\n",
    "for i in range(25):\n",
    "    \n",
    "    b = list(np.fliplr(weights_ind)[i])\n",
    "    c = list((np.char.array(vocab.iloc[np.fliplr(words_ind)[i],:])).reshape(10,))\n",
    "    topic = [m+'-'+str(n) for m,n in zip(c,b)]\n",
    "    temp.append(','.join(topic))\n",
    "    \n",
    "    if len(temp)==5:\n",
    "        mat_topics.append(temp)\n",
    "        temp = []\n",
    "\n",
    "(pd.DataFrame(np.array(mat_topics)))"
   ]
  }
 ],
 "metadata": {
  "kernelspec": {
   "display_name": "Python 3",
   "language": "python",
   "name": "python3"
  },
  "language_info": {
   "codemirror_mode": {
    "name": "ipython",
    "version": 3
   },
   "file_extension": ".py",
   "mimetype": "text/x-python",
   "name": "python",
   "nbconvert_exporter": "python",
   "pygments_lexer": "ipython3",
   "version": "3.6.1"
  }
 },
 "nbformat": 4,
 "nbformat_minor": 1
}
