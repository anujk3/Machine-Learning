{
 "cells": [
  {
   "cell_type": "code",
   "execution_count": 1,
   "metadata": {
    "collapsed": true
   },
   "outputs": [],
   "source": [
    "import numpy as np\n",
    "import numpy.linalg as nplg\n",
    "import pandas as pd\n",
    "import matplotlib.pyplot as plt\n",
    "import seaborn as sns\n",
    "\n",
    "% matplotlib inline"
   ]
  },
  {
   "cell_type": "code",
   "execution_count": null,
   "metadata": {
    "collapsed": true
   },
   "outputs": [],
   "source": [
    "N1 = train_matrix.shape[0]\n",
    "N2 = train_matrix.shape[1]\n",
    "\n",
    "sigma2 = 0.25\n",
    "d = 10\n",
    "lam = 1\n",
    "\n",
    "mean = np.zeros(d)\n",
    "cov = lam*np.diag(np.ones(d))\n",
    "objective_all=[]\n",
    "RMSE_all = []\n",
    "for runs in range(10):\n",
    "    \n",
    "    # Initialize u and v\n",
    "    u = np.random.multivariate_normal(mean,cov,N1)\n",
    "    v = np.random.multivariate_normal(mean,cov,N2) \n",
    "    objective=[]\n",
    "\n",
    "\n",
    "    for itr in range(100):\n",
    "        \n",
    "        # Update u\n",
    "        \n",
    "        for i in range(N1):\n",
    "            sum1 = np.zeros((10,10))\n",
    "            sum2 = np.zeros(10)\n",
    "\n",
    "            for j in np.where(ind_matrix[i]==1)[0]:\n",
    "                sum1 = sum1 + np.outer(v[j],v[j])\n",
    "                sum2 = sum2 + (train_matrix[i][j])*v[j]\n",
    "\n",
    "            u[i] = ((nplg.inv(sigma2*cov + sum1)).dot(sum2.reshape(10,1))).flatten()\n",
    "\n",
    "        # Update v\n",
    "        \n",
    "        for i in range(N2):\n",
    "            sum1 = np.zeros((10,10))\n",
    "            sum2 = np.zeros(10)\n",
    "\n",
    "            for j in np.where(ind_matrix[:,i]==1)[0]:\n",
    "                sum1 = sum1 + np.outer(u[j],u[j])\n",
    "                sum2 = sum2 + train_matrix[j][i]*u[j]\n",
    "\n",
    "            v[i] = ((nplg.inv(sigma2*cov + sum1)).dot(sum2.reshape(10,1))).flatten()\n",
    "\n",
    "        obj = -np.sum((1.0/(2*sigma2))*np.square(train_matrix - (u.dot(np.transpose(v)))*ind_matrix)) - np.sum((lam/2.0)*np.square(nplg.norm(u,2,1)))- np.sum((lam/2.0)*np.square(nplg.norm(v,2,1)))\n",
    "        \n",
    "        objective.append(obj)\n",
    "        \n",
    "    print(itr)  \n",
    "    objective_all.append(objective)\n",
    "    RMSE_all.append(RMSE(u,v,test))\n",
    "    \n",
    "    "
   ]
  },
  {
   "cell_type": "code",
   "execution_count": 25,
   "metadata": {},
   "outputs": [
    {
     "data": {
      "text/plain": [
       "[<matplotlib.lines.Line2D at 0x67db198>]"
      ]
     },
     "execution_count": 25,
     "metadata": {},
     "output_type": "execute_result"
    },
    {
     "data": {
      "image/png": "[encoded data removed]",
      "text/plain": [
       "<matplotlib.figure.Figure at 0x66c44e0>"
      ]
     },
     "metadata": {},
     "output_type": "display_data"
    }
   ],
   "source": [
    "plt.plot(range(1,100),objective_all[0][1:])"
   ]
  },
  {
   "cell_type": "code",
   "execution_count": 27,
   "metadata": {},
   "outputs": [
    {
     "data": {
      "text/plain": [
       "[1.1563327171286979]"
      ]
     },
     "execution_count": 27,
     "metadata": {},
     "output_type": "execute_result"
    }
   ],
   "source": [
    "RMSE_all"
   ]
  },
  {
   "cell_type": "markdown",
   "metadata": {},
   "source": [
    "## a) Run your code 10 times. For each run, initialize your ui and vj vectors as N(0; I) random vectors."
   ]
  },
  {
   "cell_type": "code",
   "execution_count": null,
   "metadata": {
    "collapsed": true
   },
   "outputs": [],
   "source": []
  }
 ],
 "metadata": {
  "anaconda-cloud": {},
  "kernelspec": {
   "display_name": "Python 3",
   "language": "python",
   "name": "python3"
  },
  "language_info": {
   "codemirror_mode": {
    "name": "ipython",
    "version": 3
   },
   "file_extension": ".py",
   "mimetype": "text/x-python",
   "name": "python",
   "nbconvert_exporter": "python",
   "pygments_lexer": "ipython3",
   "version": "3.6.1"
  }
 },
 "nbformat": 4,
 "nbformat_minor": 1
}
